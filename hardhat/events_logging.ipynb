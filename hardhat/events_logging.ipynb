{
 "cells": [
  {
   "cell_type": "code",
   "execution_count": null,
   "metadata": {},
   "outputs": [],
   "source": [
    "from web3 import Web3\n",
    "import logging\n",
    "import config\n",
    "import json\n",
    "import pandas as pd\n",
    "import time\n",
    "import csv\n",
    "import signal\n",
    "import sys\n",
    "\n",
    "\n",
    "# contract_address = \"0xa83D25405b51644e7808144B655ACEEbE7Ab947d\"\n",
    "# perp_abi = json.load(open('perp_abi.json', 'r'))\n",
    "\n",
    "\n",
    "def main():\n",
    "    w3 = connect_to_ETH_provider()\n",
    "    latest_block = w3.eth.blockNumber\n",
    "    print(latest_block)\n",
    "    latest_timestamp = w3.eth.getBlock(latest_block).timestamp\n",
    "    logging.info(\n",
    "        \"Getting trades for ETH/USD from block {start}\".format(start=latest_block))\n",
    "\n",
    "    contract = w3.eth.contract(\n",
    "        address=perp_address, abi=perp_abi)\n",
    "    df = pd.DataFrame(columns=['blockNumber', 'timestamp', 'ethPrice'])\n",
    "    df.to_csv('perp_prices.csv', index=False)\n",
    "\n",
    "    logging.info(\"Getting Trade events from block {start} to {end}\".format(\n",
    "        start=latest_block-1000000, end=latest_block))\n",
    "    events = contract.events.Trade.createFilter(\n",
    "        fromBlock=latest_block-1000000, toBlock=latest_block)\n",
    "    logging.info(\"Found {0} Trade events\".format(\n",
    "        len(events.get_all_entries())))\n",
    "    for event in events.get_all_entries():\n",
    "        logging.info(\n",
    "            \"Found a Trade event for the block {}\".format(event['blockNumber']))\n",
    "        blockNumber = event['blockNumber']\n",
    "        sqrtPriceX96 = event['args']['newSqrtPrice']\n",
    "        eth_price = (sqrtPriceX96/10**9)**2\n",
    "        timestamp = w3.eth.getBlock(blockNumber)['timestamp']\n",
    "        new_df = pd.DataFrame({'blockNumber': blockNumber, 'timestamp': timestamp,\n",
    "                               'ethPrice': eth_price}, index=[0])\n",
    "        df = pd.concat([df, new_df], ignore_index=True)\n",
    "    df.to_csv('perp_prices.csv', mode='a', header=False, index=False)\n",
    "\n",
    "    # while True:\n",
    "    #     logging.info(\"Getting Trade events for block {start} \".format(\n",
    "    #         start=latest_block))\n",
    "    #     events = contract.events.Trade.createFilter(\n",
    "    #         fromBlock=latest_block-1, toBlock='latest')\n",
    "    #     logging.info(\"Found {0} Trade events\".format(\n",
    "    #         len(events.get_all_entries())))\n",
    "    #     for event in events.get_all_entries():\n",
    "    #         # old_df = pd.DataFrame({'blockNumber': 0, 'timestamp': 0,\n",
    "    #         #                        'ethPrice': 0}, index=[0])\n",
    "    #         logging.info(\n",
    "    #             \"Found a Trade event for the block {}\".format(latest_block))\n",
    "    #         blockNumber = event['blockNumber']\n",
    "    #         newSqrtPrice = event['args']['newSqrtPrice']\n",
    "    #         eth_price = (newSqrtPrice/10**9)**2\n",
    "    #         timestamp = w3.eth.getBlock(blockNumber)['timestamp']\n",
    "    #         new_df = df.append({'blockNumber': blockNumber, 'timestamp': timestamp,\n",
    "    #                             'ethPrice': eth_price}, ignore_index=True)\n",
    "    #         try:\n",
    "\n",
    "    #             last_df = []\n",
    "\n",
    "    #             # Open the CSV file\n",
    "    #             with open('perp_prices.csv', 'r') as csvfile:\n",
    "    #                 # Read the entire file into a list of strings\n",
    "    #                 rows = csvfile.readlines()\n",
    "    #                 last_df = rows[len(rows)-1].split(',')\n",
    "    #             if len(rows) == 1:\n",
    "    #                 new_df.to_csv('perp_prices.csv', mode='a',\n",
    "    #                               header=False, index=False)\n",
    "    #             elif float(last_df[0]) == blockNumber and float(last_df[1]) == timestamp:\n",
    "    #                 continue\n",
    "    #             else:\n",
    "    #                 new_df.to_csv('perp_prices.csv', mode='a',\n",
    "    #                               header=False, index=False)\n",
    "    #         except:\n",
    "    #             logger.warning(\n",
    "    #                 \"There is an issue with reading last row of CSV file.\")\n",
    "    #             # old_df = new_df\n",
    "\n",
    "    #     latest_block = w3.eth.blockNumber\n",
    "    #     time.sleep(10)\n",
    "\n",
    "\n",
    "def connect_to_ETH_provider():\n",
    "    try:\n",
    "        web3 = Web3(Web3.HTTPProvider(config.ALCHEMY_URI))\n",
    "    except Exception as e:\n",
    "        logger.warning(\n",
    "            \"There is an issue with your initial connection to Ethereum Provider: {0}\".format(e))\n",
    "        quit()\n",
    "    return web3\n",
    "\n",
    "\n",
    "if __name__ == '__main__':\n",
    "    main()\n"
   ]
  },
  {
   "cell_type": "code",
   "execution_count": 31,
   "metadata": {},
   "outputs": [
    {
     "data": {
      "text/plain": [
       "{'jsonrpc': '2.0', 'result': '0x4563918244f40000', 'id': 2}"
      ]
     },
     "execution_count": 31,
     "metadata": {},
     "output_type": "execute_result"
    }
   ],
   "source": [
    "import requests\n",
    "\n",
    "url = \"https://api.hyperspace.node.glif.io\"\n",
    "\n",
    "\n",
    "address_sent_to = 't410fsdyu4mucs52bmkdaqxqnsaqquqal57jcflxeapi'\n",
    "eth_address = '0x90f14e3282977416286085e0d90210A400bEFD22'\n",
    "p1 = {\n",
    "    0: \"0x90f14e3282977416286085e0d90210A400bEFD22\",\n",
    "    1: \"string value\"\n",
    "}\n",
    "\n",
    "\n",
    "# Example echo method\n",
    "payload = {\n",
    "    \"id\": 2,\n",
    "    \"jsonrpc\": \"2.0\",\n",
    "    \"method\": \"Filecoin.EthGetBalance\",\n",
    "    \"params\": [eth_address, \"latest\"]\n",
    "}\n",
    "response = requests.post(url, json=payload, headers={\"Content-Type\": \"application/json\"})\n",
    "response.json()"
   ]
  },
  {
   "cell_type": "code",
   "execution_count": 33,
   "metadata": {},
   "outputs": [
    {
     "data": {
      "text/plain": [
       "{'jsonrpc': '2.0', 'result': '1000000000000000000', 'id': 2}"
      ]
     },
     "execution_count": 33,
     "metadata": {},
     "output_type": "execute_result"
    }
   ],
   "source": [
    "import requests\n",
    "\n",
    "url = \"https://api.hyperspace.node.glif.io\"\n",
    "\n",
    "\n",
    "address_sent_to = 't410fsdyu4mucs52bmkdaqxqnsaqquqal57jcflxeapi'\n",
    "eth_second_address ='t410f677uikubqtqrgr3lnd25ft7ok6wrvzw636qumvy'\n",
    "eth_address = '0x90f14e3282977416286085e0d90210A400bEFD22'\n",
    "p1 = {\n",
    "    0: \"0x90f14e3282977416286085e0d90210A400bEFD22\",\n",
    "    1: \"string value\"\n",
    "}\n",
    "\n",
    "\n",
    "# Example echo method\n",
    "payload = {\n",
    "    \"id\": 2,\n",
    "    \"jsonrpc\": \"2.0\",\n",
    "    \"method\": \"Filecoin.WalletBalance\",\n",
    "    \"params\": [eth_second_address]\n",
    "}\n",
    "response = requests.post(url, json=payload, headers={\n",
    "                         \"Content-Type\": \"application/json\"})\n",
    "response.json()\n"
   ]
  },
  {
   "cell_type": "code",
   "execution_count": 36,
   "metadata": {},
   "outputs": [
    {
     "data": {
      "text/plain": [
       "{'jsonrpc': '2.0',\n",
       " 'result': {'Cids': [{'/': 'bafy2bzaceas5ttnx4kydimkskchwivbfjh7agsspgrzgscn2jnih57c65ympu'},\n",
       "   {'/': 'bafy2bzaceavkfgqxr3b72efkbeaacijfxdmcnji6y7cvyd6qnabqlofeymb3c'},\n",
       "   {'/': 'bafy2bzacedeg4vpmaj3bnm2tkvnxuto4hpl65iopth2fbdr6qsxqe2kcnajqq'},\n",
       "   {'/': 'bafy2bzacedpd7et5j3ocpedguwxobobv6k7keemblu6q2n372rk5liyh3aljw'}],\n",
       "  'Blocks': [{'Miner': 't01001',\n",
       "    'Ticket': {'VRFProof': 'oXiZkqzntKhldwDa1kkSLnIPvxoW2MsdqMDh6kcCJmLHfckXhWKDlNbLfROlYUGoAuEr7TeKcVy8JVmJN4MVgzrcpVSFrKRJMnPlkMpYFZ7o0YRLTLtkpe9KbSm9LASt'},\n",
       "    'ElectionProof': {'WinCount': 1,\n",
       "     'VRFProof': 'iW2UZz516kTAtftEbTmR4T+/1yga6A9GqCPZijAOQph1iyasGSzZO/tB2EHn6291E6r0Chb5d6vHVz/Nnt3GmqsLtSPvNnSxyzjXkAjb6CEvD+bWcDLVhUkhtPv8W/A5'},\n",
       "    'BeaconEntries': [{'Round': 2642041,\n",
       "      'Data': 'pOdxvvw8pVVRDFCFMapb4fR+BJ/8sFmPEouRk/bWbcQhlBkaVVK7WnCZ9VdYZuaXE2tbMtXniLlS7Ps8cL9N9MhbWXHMOX+OFNzo72P1uhCBJy1hSufhkqMDUHuIYhIk'}],\n",
       "    'WinPoStProof': [{'PoStProof': 2,\n",
       "      'ProofBytes': 'rqcvD6CMVQs9iPZDWp6Hr23qxnBb85HsQbmrNLOTXdW3E1wweYSeHEKg37lZ9bMCjY/c0KyajQYL0/zoPzoaT8N0GPLkhKyJ2+V/+baRsMXBocCzcglREo1hbCrH5d/1DdYuB0klPHNKZvfD+xl4oErZyqH0sDlOLC7o64aZrDjV9HWoaRqQJFC816AAwzHqhPXClhZK3tymIXpv2z+NDi3tR0RdbgIUtweofwKgZQdGm67VaIxfFr7xN6oQPjED'}],\n",
       "    'Parents': [{'/': 'bafy2bzaceabxyflwuxe274ti3gof42hy3u4zfbrtpkhrpk2elnoeyejmweodk'},\n",
       "     {'/': 'bafy2bzaceatusxn6s3sjkqsnrs6nkx7ch4x6ixkzgppb35664ukwrppro3g3g'}],\n",
       "    'ParentWeight': '454566001',\n",
       "    'Height': 28116,\n",
       "    'ParentStateRoot': {'/': 'bafy2bzacebsbjpvi5os6rsww72wxezivgj42ehulxtu5awqnt4vtooc4ni7mw'},\n",
       "    'ParentMessageReceipts': {'/': 'bafy2bzacedswlcz5ddgqnyo3sak3jmhmkxashisnlpq6ujgyhe4mlobzpnhs6'},\n",
       "    'Messages': {'/': 'bafy2bzacecmda75ovposbdateg7eyhwij65zklgyijgcjwynlklmqazpwlhba'},\n",
       "    'BLSAggregate': {'Type': 2,\n",
       "     'Data': 'wAAAAAAAAAAAAAAAAAAAAAAAAAAAAAAAAAAAAAAAAAAAAAAAAAAAAAAAAAAAAAAAAAAAAAAAAAAAAAAAAAAAAAAAAAAAAAAAAAAAAAAAAAAAAAAAAAAAAAAAAAAAAAAA'},\n",
       "    'Timestamp': 1674692280,\n",
       "    'BlockSig': {'Type': 2,\n",
       "     'Data': 'jig2iXZsXhVmFRbj9A+vX3km5d4fFjGBhYWV6JnPkhsK8bcKYzEidMEU9rMGlopYBiF6g13NU2uztulpXxFGKgiObpwSwhR9KfVHa69A6svmoniYKo8w3E4BdqksCw6Y'},\n",
       "    'ForkSignaling': 0,\n",
       "    'ParentBaseFee': '100'},\n",
       "   {'Miner': 't01130',\n",
       "    'Ticket': {'VRFProof': 'uJoMQAS7lqHSw2AmfNv/jkDnaOBebCkQF0ZqQ2Q8SezMngH7BY30m14lCsdJlNmECdbHRdHIIMz8fS1mrNadkgdnQgFhYXswFcSCiDSoxN3hW8x4FzMKnjuhcFn81elD'},\n",
       "    'ElectionProof': {'WinCount': 2,\n",
       "     'VRFProof': 'iHJS1tGPSVMn9BR5iHin77+whKOdjYpHpioNJnboQHPYatS5QOV8UczCqgIbEyFCBuyqNBqPo4XGvbNFNNcjd+3EcIUJwdunBbj2W2sZ0v0ug6FnXHOJaE/153mshJFp'},\n",
       "    'BeaconEntries': [{'Round': 2642041,\n",
       "      'Data': 'pOdxvvw8pVVRDFCFMapb4fR+BJ/8sFmPEouRk/bWbcQhlBkaVVK7WnCZ9VdYZuaXE2tbMtXniLlS7Ps8cL9N9MhbWXHMOX+OFNzo72P1uhCBJy1hSufhkqMDUHuIYhIk'}],\n",
       "    'WinPoStProof': [{'PoStProof': 3,\n",
       "      'ProofBytes': 'jrlBRPanzCWsmhWw/4F8hk/nvyf5xaqEMVCICykfRoAi69JyNM/gDssEs3QrpuJ8tBmPjdygfe5MCe5Z6nsTcwf1rSu817FcgAqnacehLVShF8eZliGvsj1Fb4L8Y9U3CtS4rwkD1E+WUgELBtWZ375zdKxyL82Sj4C5DIeix8Yv3j87wxwHggElL30ql2BxiTo0EMl4N7q3YL3XyRu4MkdHieViblzSjvcx4Ygyfk6E3R6JF6H9UdIpCBTy1bLf'}],\n",
       "    'Parents': [{'/': 'bafy2bzaceabxyflwuxe274ti3gof42hy3u4zfbrtpkhrpk2elnoeyejmweodk'},\n",
       "     {'/': 'bafy2bzaceatusxn6s3sjkqsnrs6nkx7ch4x6ixkzgppb35664ukwrppro3g3g'}],\n",
       "    'ParentWeight': '454566001',\n",
       "    'Height': 28116,\n",
       "    'ParentStateRoot': {'/': 'bafy2bzacebsbjpvi5os6rsww72wxezivgj42ehulxtu5awqnt4vtooc4ni7mw'},\n",
       "    'ParentMessageReceipts': {'/': 'bafy2bzacedswlcz5ddgqnyo3sak3jmhmkxashisnlpq6ujgyhe4mlobzpnhs6'},\n",
       "    'Messages': {'/': 'bafy2bzacecmda75ovposbdateg7eyhwij65zklgyijgcjwynlklmqazpwlhba'},\n",
       "    'BLSAggregate': {'Type': 2,\n",
       "     'Data': 'wAAAAAAAAAAAAAAAAAAAAAAAAAAAAAAAAAAAAAAAAAAAAAAAAAAAAAAAAAAAAAAAAAAAAAAAAAAAAAAAAAAAAAAAAAAAAAAAAAAAAAAAAAAAAAAAAAAAAAAAAAAAAAAA'},\n",
       "    'Timestamp': 1674692280,\n",
       "    'BlockSig': {'Type': 2,\n",
       "     'Data': 'k4XRbTY5mAJWUd5q2Gib30Lb86B5fXHWC0F7vcnPfdkTbIm73fs5wur4YSUlY220C5L8DhlCi/W0lzIu3kaQBHkvMMrDGWmbpp5cmxUMrbaIH9XdULJkV2Ym22zuwrfq'},\n",
       "    'ForkSignaling': 0,\n",
       "    'ParentBaseFee': '100'},\n",
       "   {'Miner': 't01036',\n",
       "    'Ticket': {'VRFProof': 'lJfmSaEvxedoVkTiBUkUHyzupDhd7OZ+BQw39v60wUVt8HNDdgS+nxRSQhiGWo2pD4sAuY3gMmpUtr/YldCM1HL5HeLF5CvIum/43rZGew0aPDslMsHWMMCGG6cjkr/k'},\n",
       "    'ElectionProof': {'WinCount': 1,\n",
       "     'VRFProof': 'kB33Yet307pCt9XuJ88hb0wSn/U0RQYSFC3RoH+pfcvQ70cOLI/m0L7CcKpi6hT9BAuhoMOuP2x1FiIu4t1VHq9JSPejw0WpcspdGb5Ql+Z9clYI+QtzvGHoF9EHidVz'},\n",
       "    'BeaconEntries': [{'Round': 2642041,\n",
       "      'Data': 'pOdxvvw8pVVRDFCFMapb4fR+BJ/8sFmPEouRk/bWbcQhlBkaVVK7WnCZ9VdYZuaXE2tbMtXniLlS7Ps8cL9N9MhbWXHMOX+OFNzo72P1uhCBJy1hSufhkqMDUHuIYhIk'}],\n",
       "    'WinPoStProof': [{'PoStProof': 2,\n",
       "      'ProofBytes': 'p9uS+EZooMmAvQVh4Kx/ZhnY1DeGSozISR21qw9HnGmZ0vYWtbaNZMsYZU8hQn4whAdVoDvzt+jzAQohFfKldtRMFT9RwyIebNvkrJGdAfOGVJstI+NUQFGiAFjj+y0pEDxTCEjxFbACCTXVVFt3+TuxuraLRaS+IUt1+bWIzfBe3RIYes7rY5cV/wvfNMjspvWUrs99fWM8IsOliiFZh8iFgMnW22Nm3leo55msFkhA+Uy7KHyAmbWtWRMmt5tQ'}],\n",
       "    'Parents': [{'/': 'bafy2bzaceabxyflwuxe274ti3gof42hy3u4zfbrtpkhrpk2elnoeyejmweodk'},\n",
       "     {'/': 'bafy2bzaceatusxn6s3sjkqsnrs6nkx7ch4x6ixkzgppb35664ukwrppro3g3g'}],\n",
       "    'ParentWeight': '454566001',\n",
       "    'Height': 28116,\n",
       "    'ParentStateRoot': {'/': 'bafy2bzacebsbjpvi5os6rsww72wxezivgj42ehulxtu5awqnt4vtooc4ni7mw'},\n",
       "    'ParentMessageReceipts': {'/': 'bafy2bzacedswlcz5ddgqnyo3sak3jmhmkxashisnlpq6ujgyhe4mlobzpnhs6'},\n",
       "    'Messages': {'/': 'bafy2bzacecmda75ovposbdateg7eyhwij65zklgyijgcjwynlklmqazpwlhba'},\n",
       "    'BLSAggregate': {'Type': 2,\n",
       "     'Data': 'wAAAAAAAAAAAAAAAAAAAAAAAAAAAAAAAAAAAAAAAAAAAAAAAAAAAAAAAAAAAAAAAAAAAAAAAAAAAAAAAAAAAAAAAAAAAAAAAAAAAAAAAAAAAAAAAAAAAAAAAAAAAAAAA'},\n",
       "    'Timestamp': 1674692280,\n",
       "    'BlockSig': {'Type': 2,\n",
       "     'Data': 'iKsHs5/JxqXczUQWHNgIhuRonLg2/Wc37DjLeuCH52mENtPvP3IPxGwjHRrgxxisAf70cKgxtX1M176faOQbThJ2czkspsLO5T7ZK8mysFngxbtQIowTh4PmkbSVsFBd'},\n",
       "    'ForkSignaling': 0,\n",
       "    'ParentBaseFee': '100'},\n",
       "   {'Miner': 't01000',\n",
       "    'Ticket': {'VRFProof': 'lMPlMQPU+MNYorK1Kh5FtwyItTjNSGVq46554NSY1KHwTOuUTEh5MmgpbOMjSzxED3j0rlCFpDQec/CYXvPJBeAg38HRTM51ZxbUu1QfdhBTT7RnDYnxeyO3ZkoYWxMa'},\n",
       "    'ElectionProof': {'WinCount': 3,\n",
       "     'VRFProof': 'pq77+sLpW2WPAVV3qdMONSbhkpHcWHZaJsTOVFiguxz7FKMPBrhxuqsBzk8oe3iwGVSqKj/eA0AXJSBuxl3k1V1k+loqLRTK72KRWB1PxhgzB7xF5kwRvzJfE6Ju7wVc'},\n",
       "    'BeaconEntries': [{'Round': 2642041,\n",
       "      'Data': 'pOdxvvw8pVVRDFCFMapb4fR+BJ/8sFmPEouRk/bWbcQhlBkaVVK7WnCZ9VdYZuaXE2tbMtXniLlS7Ps8cL9N9MhbWXHMOX+OFNzo72P1uhCBJy1hSufhkqMDUHuIYhIk'}],\n",
       "    'WinPoStProof': [{'PoStProof': 2,\n",
       "      'ProofBytes': 'j5fJKUmgOgfPwVd/84B/eGFy2rKD4YB/sbNQkvz+aWvvxojNZutoN1Kv9UAFM5xiorLGa0yN+s1b/K+/Ebz2IIVbjuXgjJeOOX3/NeiyvlJO/C3UrEm3kqBv7BFMp5WcEvQiJBDsp0Dz4eg+JcmzOU4MzG8aQxui4BLvtjyViACcsjDvuIBAoTHq0dSkPE4UgWWRg/VNatKNGwB67+ULfeLiq0omN/Mjj6p6RpeuJufV6+gTerodwBwCTAv7x5c5'}],\n",
       "    'Parents': [{'/': 'bafy2bzaceabxyflwuxe274ti3gof42hy3u4zfbrtpkhrpk2elnoeyejmweodk'},\n",
       "     {'/': 'bafy2bzaceatusxn6s3sjkqsnrs6nkx7ch4x6ixkzgppb35664ukwrppro3g3g'}],\n",
       "    'ParentWeight': '454566001',\n",
       "    'Height': 28116,\n",
       "    'ParentStateRoot': {'/': 'bafy2bzacebsbjpvi5os6rsww72wxezivgj42ehulxtu5awqnt4vtooc4ni7mw'},\n",
       "    'ParentMessageReceipts': {'/': 'bafy2bzacedswlcz5ddgqnyo3sak3jmhmkxashisnlpq6ujgyhe4mlobzpnhs6'},\n",
       "    'Messages': {'/': 'bafy2bzacecmda75ovposbdateg7eyhwij65zklgyijgcjwynlklmqazpwlhba'},\n",
       "    'BLSAggregate': {'Type': 2,\n",
       "     'Data': 'wAAAAAAAAAAAAAAAAAAAAAAAAAAAAAAAAAAAAAAAAAAAAAAAAAAAAAAAAAAAAAAAAAAAAAAAAAAAAAAAAAAAAAAAAAAAAAAAAAAAAAAAAAAAAAAAAAAAAAAAAAAAAAAA'},\n",
       "    'Timestamp': 1674692280,\n",
       "    'BlockSig': {'Type': 2,\n",
       "     'Data': 'qWp4chBhdl8OmtAUpsYB9vNWhejGMBpbzqXdXpDL+OW1bs+EQAyH7hdwrR55U+MOC+WS0+a2hvShJFlJQW/ltOjSRYjxdqhF70d6JFP7wWRM4715sbCxKp6/YYtxQdaS'},\n",
       "    'ForkSignaling': 0,\n",
       "    'ParentBaseFee': '100'}],\n",
       "  'Height': 28116},\n",
       " 'id': 2}"
      ]
     },
     "execution_count": 36,
     "metadata": {},
     "output_type": "execute_result"
    }
   ],
   "source": [
    "import requests\n",
    "\n",
    "url = \"https://api.hyperspace.node.glif.io\"\n",
    "\n",
    "\n",
    "address_sent_to = 't410fsdyu4mucs52bmkdaqxqnsaqquqal57jcflxeapi'\n",
    "eth_second_address = 't410f677uikubqtqrgr3lnd25ft7ok6wrvzw636qumvy'\n",
    "eth_address = '0x90f14e3282977416286085e0d90210A400bEFD22'\n",
    "p1 = 28116\n",
    "\n",
    "\n",
    "# Example echo method\n",
    "payload = {\n",
    "    \"id\": 2,\n",
    "    \"jsonrpc\": \"2.0\",\n",
    "    \"method\": \"Filecoin.ChainGetTipSetAfterHeight\",\n",
    "    \"params\": [p1, None]\n",
    "}\n",
    "response = requests.post(url, json=payload, headers={\n",
    "                         \"Content-Type\": \"application/json\"})\n",
    "response.json()\n"
   ]
  },
  {
   "cell_type": "code",
   "execution_count": 50,
   "metadata": {},
   "outputs": [
    {
     "data": {
      "text/plain": [
       "{'jsonrpc': '2.0',\n",
       " 'result': [{'Cid': {'/': 'bafy2bzacebl32ctdslrzq3qajysvjhz7lhewwy4k7fzaagztgaptjk3hk4l5e'},\n",
       "   'Message': {'Version': 0,\n",
       "    'To': 't01129',\n",
       "    'From': 't3r3nqkq7ybn2ozj4lvvpdwayyy3b5v6l7gnrgg7yd5d42ti65qfaamvdphnqscek3ruoo7rnulixbsyh52tla',\n",
       "    'Nonce': 1952,\n",
       "    'Value': '0',\n",
       "    'GasLimit': 24240760,\n",
       "    'GasFeeCap': '100591',\n",
       "    'GasPremium': '99537',\n",
       "    'Method': 5,\n",
       "    'Params': 'hRgZhIIAQIIBQIICQIIDQIGCB1kDAIZMc1CtEgU9mi54mEYiiQQUOhUtIOo0Py9AvSZfp9ZEkEeCFEclJWRyzKR42R/PWY5oGg2vuf5r+rhiueZllxdRgnCsohpwxPi/TPnG/DfztGkH+OU77XThuZXaA1xYxgnfwE6cjfde+W4SKDz1F41jyRBUUbHhkBg6jS3VcTiZ00MxpUKBeV/0SliGLF5kMpOYYZht3ICnnBPPP7IND+I7wWMdDXkbQGimbATyKKMnr0xJRfp2uTk/+GWVMJ3m9ImfDhNGefTlVFa3B0KJIllUi1z4C6HJPT2+b4aR+4KkhmsSNcCbRjKpIz1XBAVQiLhu0PWwydbaykhn58YvBLwEFsITMxgru+L9eG286S0s5lvQJg7VPczJBhbC4FqB6gxiXDE8ivvyUtrU+h5A5I8WRmf/Ee3Rl9o0hA55+k6V9cKbpj+RFzl9BMaN7ItLTbFubtSC/XayDr98jdYYPW29X1IsN8ahDbWHXd5hkdYtFmTFJUoLSiUFMw7svbPYxLbaTWSLiAUi6wZjCS7S5C5uXlHM6c64PEFRSYrO67xKrGc/1Nq07mTfgsI43koRdLEo8qBIPCUZxDFyDGeKn/9GxQCPO0Av4fg9tNePzKR3hxwjv/M7D3KsP9TbAIdxoA9ZEpTensM7w+URra7oa9ln69YLCJwvH+wjm/thw0H957UMSzcAEZ7VloAqT3CANIZQCwhhqcVn3XNii/itbtxScIS//fK6R4VeDQLM+8G6E4x+v+nH30b7J0z+kXp7r7aKjJVvuMLqGSuEQvNcdzsYgJGLC/Gb7U5h2xogs4o5V+WTOvXLDyM3Kb2rk0Mi2KozDav5Fpm0JSC50PPnZ1RtSbBBzJa3wwC9wMpFkvBPCNCe3ysc8mZXuUpbdxudSQFD4uRoNSf2G9vAKhQWitIkizbF2fz3jjswfzyX5f7qXtW2BmxEnDLXpsgJVXYz9oFgsPLT5oQ6XSM8wfzyXQIXqlalAQ4UtOfmnllZdCyxF7SUwim41qHdcsoDOALEohlt11ggvg6ARcxACYeOrBi0oghoc4mNHpx3L+rjEO7QB+5Ag/Q=',\n",
       "    'CID': {'/': 'bafy2bzacebl32ctdslrzq3qajysvjhz7lhewwy4k7fzaagztgaptjk3hk4l5e'}}}],\n",
       " 'id': 2}"
      ]
     },
     "execution_count": 50,
     "metadata": {},
     "output_type": "execute_result"
    }
   ],
   "source": [
    "import requests\n",
    "import base64\n",
    "\n",
    "url = \"https://api.hyperspace.node.glif.io\"\n",
    "\n",
    "\n",
    "address_sent_to = 't410fsdyu4mucs52bmkdaqxqnsaqquqal57jcflxeapi'\n",
    "eth_second_address = 't410f677uikubqtqrgr3lnd25ft7ok6wrvzw636qumvy'\n",
    "eth_address = '0x90f14e3282977416286085e0d90210A400bEFD22'\n",
    "p1 = {\n",
    "    \"/\": \"bafy2bzacebvgnbocr4a7aa5h2bvdxzkpvw2g7wmpkz6fe7cr4o25zv7xoxlo6\"\n",
    "}\n",
    "\n",
    "\n",
    "# Example echo method\n",
    "payload = {\n",
    "    \"id\": 2,\n",
    "    \"jsonrpc\": \"2.0\",\n",
    "    \"method\": \"Filecoin.ChainGetParentMessages\",\n",
    "    \"params\": [p1]\n",
    "}\n",
    "response = requests.post(url, json=payload, headers={\n",
    "                         \"Content-Type\": \"application/json\"})\n",
    "response = response.json()\n",
    "response\n",
    "\n"
   ]
  },
  {
   "cell_type": "code",
   "execution_count": 48,
   "metadata": {},
   "outputs": [
    {
     "data": {
      "text/plain": [
       "{'Version': 0,\n",
       " 'To': 't01129',\n",
       " 'From': 't3r3nqkq7ybn2ozj4lvvpdwayyy3b5v6l7gnrgg7yd5d42ti65qfaamvdphnqscek3ruoo7rnulixbsyh52tla',\n",
       " 'Nonce': 1952,\n",
       " 'Value': '0',\n",
       " 'GasLimit': 24240760,\n",
       " 'GasFeeCap': '100591',\n",
       " 'GasPremium': '99537',\n",
       " 'Method': 5,\n",
       " 'Params': 'hRgZhIIAQIIBQIICQIIDQIGCB1kDAIZMc1CtEgU9mi54mEYiiQQUOhUtIOo0Py9AvSZfp9ZEkEeCFEclJWRyzKR42R/PWY5oGg2vuf5r+rhiueZllxdRgnCsohpwxPi/TPnG/DfztGkH+OU77XThuZXaA1xYxgnfwE6cjfde+W4SKDz1F41jyRBUUbHhkBg6jS3VcTiZ00MxpUKBeV/0SliGLF5kMpOYYZht3ICnnBPPP7IND+I7wWMdDXkbQGimbATyKKMnr0xJRfp2uTk/+GWVMJ3m9ImfDhNGefTlVFa3B0KJIllUi1z4C6HJPT2+b4aR+4KkhmsSNcCbRjKpIz1XBAVQiLhu0PWwydbaykhn58YvBLwEFsITMxgru+L9eG286S0s5lvQJg7VPczJBhbC4FqB6gxiXDE8ivvyUtrU+h5A5I8WRmf/Ee3Rl9o0hA55+k6V9cKbpj+RFzl9BMaN7ItLTbFubtSC/XayDr98jdYYPW29X1IsN8ahDbWHXd5hkdYtFmTFJUoLSiUFMw7svbPYxLbaTWSLiAUi6wZjCS7S5C5uXlHM6c64PEFRSYrO67xKrGc/1Nq07mTfgsI43koRdLEo8qBIPCUZxDFyDGeKn/9GxQCPO0Av4fg9tNePzKR3hxwjv/M7D3KsP9TbAIdxoA9ZEpTensM7w+URra7oa9ln69YLCJwvH+wjm/thw0H957UMSzcAEZ7VloAqT3CANIZQCwhhqcVn3XNii/itbtxScIS//fK6R4VeDQLM+8G6E4x+v+nH30b7J0z+kXp7r7aKjJVvuMLqGSuEQvNcdzsYgJGLC/Gb7U5h2xogs4o5V+WTOvXLDyM3Kb2rk0Mi2KozDav5Fpm0JSC50PPnZ1RtSbBBzJa3wwC9wMpFkvBPCNCe3ysc8mZXuUpbdxudSQFD4uRoNSf2G9vAKhQWitIkizbF2fz3jjswfzyX5f7qXtW2BmxEnDLXpsgJVXYz9oFgsPLT5oQ6XSM8wfzyXQIXqlalAQ4UtOfmnllZdCyxF7SUwim41qHdcsoDOALEohlt11ggvg6ARcxACYeOrBi0oghoc4mNHpx3L+rjEO7QB+5Ag/Q=',\n",
       " 'CID': {'/': 'bafy2bzacebl32ctdslrzq3qajysvjhz7lhewwy4k7fzaagztgaptjk3hk4l5e'}}"
      ]
     },
     "execution_count": 48,
     "metadata": {},
     "output_type": "execute_result"
    }
   ],
   "source": [
    "messages = response['result']\n",
    "item = messages[0]\n",
    "message = item['Message']\n",
    "params = message['Params']\n",
    "message\n"
   ]
  },
  {
   "cell_type": "code",
   "execution_count": 46,
   "metadata": {},
   "outputs": [
    {
     "data": {
      "text/plain": [
       "b'\\x85\\x18\\x19\\x84\\x82\\x00@\\x82\\x01@\\x82\\x02@\\x82\\x03@\\x81\\x82\\x07Y\\x03\\x00\\x86LsP\\xad\\x12\\x05=\\x9a.x\\x98F\"\\x89\\x04\\x14:\\x15- \\xea4?/@\\xbd&_\\xa7\\xd6D\\x90G\\x82\\x14G%%dr\\xcc\\xa4x\\xd9\\x1f\\xcfY\\x8eh\\x1a\\r\\xaf\\xb9\\xfek\\xfa\\xb8b\\xb9\\xe6e\\x97\\x17Q\\x82p\\xac\\xa2\\x1ap\\xc4\\xf8\\xbfL\\xf9\\xc6\\xfc7\\xf3\\xb4i\\x07\\xf8\\xe5;\\xedt\\xe1\\xb9\\x95\\xda\\x03\\\\X\\xc6\\t\\xdf\\xc0N\\x9c\\x8d\\xf7^\\xf9n\\x12(<\\xf5\\x17\\x8dc\\xc9\\x10TQ\\xb1\\xe1\\x90\\x18:\\x8d-\\xd5q8\\x99\\xd3C1\\xa5B\\x81y_\\xf4JX\\x86,^d2\\x93\\x98a\\x98m\\xdc\\x80\\xa7\\x9c\\x13\\xcf?\\xb2\\r\\x0f\\xe2;\\xc1c\\x1d\\ry\\x1b@h\\xa6l\\x04\\xf2(\\xa3\\'\\xafLIE\\xfav\\xb99?\\xf8e\\x950\\x9d\\xe6\\xf4\\x89\\x9f\\x0e\\x13Fy\\xf4\\xe5TV\\xb7\\x07B\\x89\"YT\\x8b\\\\\\xf8\\x0b\\xa1\\xc9==\\xbeo\\x86\\x91\\xfb\\x82\\xa4\\x86k\\x125\\xc0\\x9bF2\\xa9#=W\\x04\\x05P\\x88\\xb8n\\xd0\\xf5\\xb0\\xc9\\xd6\\xda\\xcaHg\\xe7\\xc6/\\x04\\xbc\\x04\\x16\\xc2\\x133\\x18+\\xbb\\xe2\\xfdxm\\xbc\\xe9-,\\xe6[\\xd0&\\x0e\\xd5=\\xcc\\xc9\\x06\\x16\\xc2\\xe0Z\\x81\\xea\\x0cb\\\\1<\\x8a\\xfb\\xf2R\\xda\\xd4\\xfa\\x1e@\\xe4\\x8f\\x16Fg\\xff\\x11\\xed\\xd1\\x97\\xda4\\x84\\x0ey\\xfaN\\x95\\xf5\\xc2\\x9b\\xa6?\\x91\\x179}\\x04\\xc6\\x8d\\xec\\x8bKM\\xb1nn\\xd4\\x82\\xfdv\\xb2\\x0e\\xbf|\\x8d\\xd6\\x18=m\\xbd_R,7\\xc6\\xa1\\r\\xb5\\x87]\\xdea\\x91\\xd6-\\x16d\\xc5%J\\x0bJ%\\x053\\x0e\\xec\\xbd\\xb3\\xd8\\xc4\\xb6\\xdaMd\\x8b\\x88\\x05\"\\xeb\\x06c\\t.\\xd2\\xe4.n^Q\\xcc\\xe9\\xce\\xb8<AQI\\x8a\\xce\\xeb\\xbcJ\\xacg?\\xd4\\xda\\xb4\\xeed\\xdf\\x82\\xc28\\xdeJ\\x11t\\xb1(\\xf2\\xa0H<%\\x19\\xc41r\\x0cg\\x8a\\x9f\\xffF\\xc5\\x00\\x8f;@/\\xe1\\xf8=\\xb4\\xd7\\x8f\\xcc\\xa4w\\x87\\x1c#\\xbf\\xf3;\\x0fr\\xac?\\xd4\\xdb\\x00\\x87q\\xa0\\x0fY\\x12\\x94\\xde\\x9e\\xc3;\\xc3\\xe5\\x11\\xad\\xae\\xe8k\\xd9g\\xeb\\xd6\\x0b\\x08\\x9c/\\x1f\\xec#\\x9b\\xfba\\xc3A\\xfd\\xe7\\xb5\\x0cK7\\x00\\x11\\x9e\\xd5\\x96\\x80*Op\\x804\\x86P\\x0b\\x08a\\xa9\\xc5g\\xddsb\\x8b\\xf8\\xadn\\xdcRp\\x84\\xbf\\xfd\\xf2\\xbaG\\x85^\\r\\x02\\xcc\\xfb\\xc1\\xba\\x13\\x8c~\\xbf\\xe9\\xc7\\xdfF\\xfb\\'L\\xfe\\x91z{\\xaf\\xb6\\x8a\\x8c\\x95o\\xb8\\xc2\\xea\\x19+\\x84B\\xf3\\\\w;\\x18\\x80\\x91\\x8b\\x0b\\xf1\\x9b\\xedNa\\xdb\\x1a \\xb3\\x8a9W\\xe5\\x93:\\xf5\\xcb\\x0f#7)\\xbd\\xab\\x93C\"\\xd8\\xaa3\\r\\xab\\xf9\\x16\\x99\\xb4% \\xb9\\xd0\\xf3\\xe7gTmI\\xb0A\\xcc\\x96\\xb7\\xc3\\x00\\xbd\\xc0\\xcaE\\x92\\xf0O\\x08\\xd0\\x9e\\xdf+\\x1c\\xf2fW\\xb9J[w\\x1b\\x9dI\\x01C\\xe2\\xe4h5\\'\\xf6\\x1b\\xdb\\xc0*\\x14\\x16\\x8a\\xd2$\\x8b6\\xc5\\xd9\\xfc\\xf7\\x8e;0\\x7f<\\x97\\xe5\\xfe\\xea^\\xd5\\xb6\\x06lD\\x9c2\\xd7\\xa6\\xc8\\tUv3\\xf6\\x81`\\xb0\\xf2\\xd3\\xe6\\x84:]#<\\xc1\\xfc\\xf2]\\x02\\x17\\xaaV\\xa5\\x01\\x0e\\x14\\xb4\\xe7\\xe6\\x9eYYt,\\xb1\\x17\\xb4\\x94\\xc2)\\xb8\\xd6\\xa1\\xddr\\xca\\x038\\x02\\xc4\\xa2\\x19m\\xd7X \\xbe\\x0e\\x80E\\xcc@\\t\\x87\\x8e\\xac\\x18\\xb4\\xa2\\x08hs\\x89\\x8d\\x1e\\x9cw/\\xea\\xe3\\x10\\xee\\xd0\\x07\\xee@\\x83\\xf4'"
      ]
     },
     "execution_count": 46,
     "metadata": {},
     "output_type": "execute_result"
    }
   ],
   "source": [
    "# Decode base64 encoded string\n",
    "params = base64.b64decode(params)\n",
    "params\n"
   ]
  },
  {
   "cell_type": "code",
   "execution_count": 47,
   "metadata": {},
   "outputs": [
    {
     "data": {
      "text/plain": [
       "[25,\n",
       " [[0, b''], [1, b''], [2, b''], [3, b'']],\n",
       " [[7,\n",
       "   b'\\x86LsP\\xad\\x12\\x05=\\x9a.x\\x98F\"\\x89\\x04\\x14:\\x15- \\xea4?/@\\xbd&_\\xa7\\xd6D\\x90G\\x82\\x14G%%dr\\xcc\\xa4x\\xd9\\x1f\\xcfY\\x8eh\\x1a\\r\\xaf\\xb9\\xfek\\xfa\\xb8b\\xb9\\xe6e\\x97\\x17Q\\x82p\\xac\\xa2\\x1ap\\xc4\\xf8\\xbfL\\xf9\\xc6\\xfc7\\xf3\\xb4i\\x07\\xf8\\xe5;\\xedt\\xe1\\xb9\\x95\\xda\\x03\\\\X\\xc6\\t\\xdf\\xc0N\\x9c\\x8d\\xf7^\\xf9n\\x12(<\\xf5\\x17\\x8dc\\xc9\\x10TQ\\xb1\\xe1\\x90\\x18:\\x8d-\\xd5q8\\x99\\xd3C1\\xa5B\\x81y_\\xf4JX\\x86,^d2\\x93\\x98a\\x98m\\xdc\\x80\\xa7\\x9c\\x13\\xcf?\\xb2\\r\\x0f\\xe2;\\xc1c\\x1d\\ry\\x1b@h\\xa6l\\x04\\xf2(\\xa3\\'\\xafLIE\\xfav\\xb99?\\xf8e\\x950\\x9d\\xe6\\xf4\\x89\\x9f\\x0e\\x13Fy\\xf4\\xe5TV\\xb7\\x07B\\x89\"YT\\x8b\\\\\\xf8\\x0b\\xa1\\xc9==\\xbeo\\x86\\x91\\xfb\\x82\\xa4\\x86k\\x125\\xc0\\x9bF2\\xa9#=W\\x04\\x05P\\x88\\xb8n\\xd0\\xf5\\xb0\\xc9\\xd6\\xda\\xcaHg\\xe7\\xc6/\\x04\\xbc\\x04\\x16\\xc2\\x133\\x18+\\xbb\\xe2\\xfdxm\\xbc\\xe9-,\\xe6[\\xd0&\\x0e\\xd5=\\xcc\\xc9\\x06\\x16\\xc2\\xe0Z\\x81\\xea\\x0cb\\\\1<\\x8a\\xfb\\xf2R\\xda\\xd4\\xfa\\x1e@\\xe4\\x8f\\x16Fg\\xff\\x11\\xed\\xd1\\x97\\xda4\\x84\\x0ey\\xfaN\\x95\\xf5\\xc2\\x9b\\xa6?\\x91\\x179}\\x04\\xc6\\x8d\\xec\\x8bKM\\xb1nn\\xd4\\x82\\xfdv\\xb2\\x0e\\xbf|\\x8d\\xd6\\x18=m\\xbd_R,7\\xc6\\xa1\\r\\xb5\\x87]\\xdea\\x91\\xd6-\\x16d\\xc5%J\\x0bJ%\\x053\\x0e\\xec\\xbd\\xb3\\xd8\\xc4\\xb6\\xdaMd\\x8b\\x88\\x05\"\\xeb\\x06c\\t.\\xd2\\xe4.n^Q\\xcc\\xe9\\xce\\xb8<AQI\\x8a\\xce\\xeb\\xbcJ\\xacg?\\xd4\\xda\\xb4\\xeed\\xdf\\x82\\xc28\\xdeJ\\x11t\\xb1(\\xf2\\xa0H<%\\x19\\xc41r\\x0cg\\x8a\\x9f\\xffF\\xc5\\x00\\x8f;@/\\xe1\\xf8=\\xb4\\xd7\\x8f\\xcc\\xa4w\\x87\\x1c#\\xbf\\xf3;\\x0fr\\xac?\\xd4\\xdb\\x00\\x87q\\xa0\\x0fY\\x12\\x94\\xde\\x9e\\xc3;\\xc3\\xe5\\x11\\xad\\xae\\xe8k\\xd9g\\xeb\\xd6\\x0b\\x08\\x9c/\\x1f\\xec#\\x9b\\xfba\\xc3A\\xfd\\xe7\\xb5\\x0cK7\\x00\\x11\\x9e\\xd5\\x96\\x80*Op\\x804\\x86P\\x0b\\x08a\\xa9\\xc5g\\xddsb\\x8b\\xf8\\xadn\\xdcRp\\x84\\xbf\\xfd\\xf2\\xbaG\\x85^\\r\\x02\\xcc\\xfb\\xc1\\xba\\x13\\x8c~\\xbf\\xe9\\xc7\\xdfF\\xfb\\'L\\xfe\\x91z{\\xaf\\xb6\\x8a\\x8c\\x95o\\xb8\\xc2\\xea\\x19+\\x84B\\xf3\\\\w;\\x18\\x80\\x91\\x8b\\x0b\\xf1\\x9b\\xedNa\\xdb\\x1a \\xb3\\x8a9W\\xe5\\x93:\\xf5\\xcb\\x0f#7)\\xbd\\xab\\x93C\"\\xd8\\xaa3\\r\\xab\\xf9\\x16\\x99\\xb4% \\xb9\\xd0\\xf3\\xe7gTmI\\xb0A\\xcc\\x96\\xb7\\xc3\\x00\\xbd\\xc0\\xcaE\\x92\\xf0O\\x08\\xd0\\x9e\\xdf+\\x1c\\xf2fW\\xb9J[w\\x1b\\x9dI\\x01C\\xe2\\xe4h5\\'\\xf6\\x1b\\xdb\\xc0*\\x14\\x16\\x8a\\xd2$\\x8b6\\xc5\\xd9\\xfc\\xf7\\x8e;0\\x7f<\\x97\\xe5\\xfe\\xea^\\xd5\\xb6\\x06lD\\x9c2\\xd7\\xa6\\xc8\\tUv3\\xf6\\x81`\\xb0\\xf2\\xd3\\xe6\\x84:]#<\\xc1\\xfc\\xf2]\\x02\\x17\\xaaV\\xa5\\x01\\x0e\\x14\\xb4\\xe7\\xe6\\x9eYYt,\\xb1\\x17\\xb4\\x94\\xc2)\\xb8\\xd6\\xa1\\xddr\\xca\\x038\\x02\\xc4\\xa2']],\n",
       " 28119,\n",
       " b'\\xbe\\x0e\\x80E\\xcc@\\t\\x87\\x8e\\xac\\x18\\xb4\\xa2\\x08hs\\x89\\x8d\\x1e\\x9cw/\\xea\\xe3\\x10\\xee\\xd0\\x07\\xee@\\x83\\xf4']"
      ]
     },
     "execution_count": 47,
     "metadata": {},
     "output_type": "execute_result"
    }
   ],
   "source": [
    "from cbor2 import dumps, loads\n",
    "\n",
    "# Use cbor2 to decode the bytes\n",
    "params = loads(params)\n",
    "params\n"
   ]
  },
  {
   "cell_type": "code",
   "execution_count": 71,
   "metadata": {},
   "outputs": [
    {
     "data": {
      "text/plain": [
       "'0x84e9'"
      ]
     },
     "execution_count": 71,
     "metadata": {},
     "output_type": "execute_result"
    }
   ],
   "source": [
    "import requests\n",
    "import base64\n",
    "\n",
    "url = \"https://api.hyperspace.node.glif.io\"\n",
    "\n",
    "\n",
    "address_sent_to = 't410fsdyu4mucs52bmkdaqxqnsaqquqal57jcflxeapi'\n",
    "eth_second_address = 't410f677uikubqtqrgr3lnd25ft7ok6wrvzw636qumvy'\n",
    "eth_address = '0x90f14e3282977416286085e0d90210A400bEFD22'\n",
    "p1 = {\n",
    "    \"/\": \"bafy2bzacebvgnbocr4a7aa5h2bvdxzkpvw2g7wmpkz6fe7cr4o25zv7xoxlo6\"\n",
    "}\n",
    "\n",
    "\n",
    "# Example echo method\n",
    "payload = {\n",
    "    \"id\": 2,\n",
    "    \"jsonrpc\": \"2.0\",\n",
    "    \"method\": \"Filecoin.EthBlockNumber\",\n",
    "    \"params\": []\n",
    "}\n",
    "response = requests.post(url, json=payload, headers={\n",
    "                         \"Content-Type\": \"application/json\"})\n",
    "response = response.json()\n",
    "response\n",
    "block_number = response['result']\n",
    "block_number\n"
   ]
  },
  {
   "cell_type": "code",
   "execution_count": 76,
   "metadata": {},
   "outputs": [
    {
     "data": {
      "text/plain": [
       "{'jsonrpc': '2.0',\n",
       " 'result': {'hash': '0x3c2610e89c45f94d0c7a4f2abe047f8078549f817a909dc8e609a19156e0ae67',\n",
       "  'parentHash': '0xe56889058859f53650ce6be85d30432b93da1e3e67e3cedec79197badb322125',\n",
       "  'sha3Uncles': '0x0000000000000000000000000000000000000000000000000000000000000000',\n",
       "  'miner': '0x0000000000000000000000000000000000000000',\n",
       "  'stateRoot': '0x0000000000000000000000000000000000000000000000000000000000000000',\n",
       "  'transactionsRoot': '0x0000000000000000000000000000000000000000000000000000000000000000',\n",
       "  'receiptsRoot': '0x0000000000000000000000000000000000000000000000000000000000000000',\n",
       "  'logsBloom': '0x00000000000000000000000000000000000000000000000000000000000000000000000000000000000000000000000000000000000000000000000000000000000000000000000000000000000000000000000000000000000000000000000000000000000000000000000000000000000000000000000000000000000000000000000000000000000000000000000000000000000000000000000000000000000000000000000000000000000000000000000000000000000000000000000000000000000000000000000000000000000000000000000000000000000000000000000000000000000000000000000000000000000000000000000000000001',\n",
       "  'difficulty': '0x0',\n",
       "  'totalDifficulty': '0x0',\n",
       "  'number': '0x84e4',\n",
       "  'gasLimit': '0x2540be400',\n",
       "  'gasUsed': '0x13e7d0b',\n",
       "  'timestamp': '0x63d47a98',\n",
       "  'extraData': '',\n",
       "  'mixHash': '0x0000000000000000000000000000000000000000000000000000000000000000',\n",
       "  'nonce': '0x0000000000000000',\n",
       "  'baseFeePerGas': '0x64',\n",
       "  'size': '0x0',\n",
       "  'transactions': [{'chainId': '0xc45',\n",
       "    'nonce': '0x5',\n",
       "    'hash': '0x76114112c72020d07a59ac8933c29ec2200a961396014046fc5e941832ffa8c2',\n",
       "    'blockHash': '0x3c2610e89c45f94d0c7a4f2abe047f8078549f817a909dc8e609a19156e0ae67',\n",
       "    'blockNumber': '0x84e4',\n",
       "    'transactionIndex': '0x0',\n",
       "    'from': '0xf7ff442a8184e113476b68f5d2cfee57ad1ae6de',\n",
       "    'to': None,\n",
       "    'value': '0x0',\n",
       "    'type': '0x2',\n",
       "    'input': '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',\n",
       "    'gas': '0x18e02e9',\n",
       "    'maxFeePerGas': '0x61279',\n",
       "    'maxPriorityFeePerGas': '0x30a7f',\n",
       "    'v': '0x0',\n",
       "    'r': '0x79940ca4bd1a7a5c48e7a449ab24138107cad63298628388f684612732c14766',\n",
       "    's': '0x286303ecac35ab18683f59a1fb10208b875607098544b6c2392d1ddea5bee2d1'}],\n",
       "  'uncles': []},\n",
       " 'id': 2}"
      ]
     },
     "execution_count": 76,
     "metadata": {},
     "output_type": "execute_result"
    }
   ],
   "source": [
    "import requests\n",
    "import base64\n",
    "\n",
    "url = \"https://api.hyperspace.node.glif.io\"\n",
    "\n",
    "\n",
    "address_sent_to = 't410fsdyu4mucs52bmkdaqxqnsaqquqal57jcflxeapi'\n",
    "eth_second_address = 't410f677uikubqtqrgr3lnd25ft7ok6wrvzw636qumvy'\n",
    "eth_address = '0x90f14e3282977416286085e0d90210A400bEFD22'\n",
    "p1 = {\n",
    "    \"/\": \"bafy2bzacebvgnbocr4a7aa5h2bvdxzkpvw2g7wmpkz6fe7cr4o25zv7xoxlo6\"\n",
    "}\n",
    "\n",
    "dec = int(block_number, 16)\n",
    "\n",
    "block_number = hex(dec-1)\n",
    "\n",
    "# block_number = block_number - 1\n",
    "# Example echo method\n",
    "payload = {\n",
    "    \"id\": 2,\n",
    "    \"jsonrpc\": \"2.0\",\n",
    "    \"method\": \"Filecoin.EthGetBlockByNumber\",\n",
    "    \"params\": [block_number, True]\n",
    "}\n",
    "response = requests.post(url, json=payload, headers={\n",
    "                         \"Content-Type\": \"application/json\"})\n",
    "response = response.json()\n",
    "response\n"
   ]
  },
  {
   "cell_type": "code",
   "execution_count": 87,
   "metadata": {},
   "outputs": [
    {
     "data": {
      "text/plain": [
       "{'jsonrpc': '2.0',\n",
       " 'result': {'Cids': [{'/': 'bafy2bzaceayfiovbmmovun7aivn23avbg2j4lqf5xcsmp4k37a2k7l2yh5jo2'},\n",
       "   {'/': 'bafy2bzacedwkgc7pgtqgxi7or2jdh43xq2mlprig5kdhhv2jjyjd3vf477wns'},\n",
       "   {'/': 'bafy2bzaceaye7qmbbzrec4rvfrnprdfuuzuu6ff757izeabwrqfhgy422cxac'}],\n",
       "  'Blocks': [{'Miner': 't01129',\n",
       "    'Ticket': {'VRFProof': 'q1LDtag8UGW5L5BoG//3R6bExyuKRSgRVrU20w6EBFCGVjZJzUD3T7niD/bXjCL+CIrEFJpJaZYWtFHoakGRANNWIr9YJ+s6v3sfP808dfnOLRMlIrYO7LU+LNej4br9'},\n",
       "    'ElectionProof': {'WinCount': 1,\n",
       "     'VRFProof': 'qLWg2pwZWp/JzpJIrX8twpRHCD15weqbKZZlI10ojYpD/Y9nStjtno6zetq0Ujz4DlzRkCrS+pUkkEZO10ouPxZTqk6E49GlZNZvTPZp6hmp+HoZ4FAklXToSeRTko3u'},\n",
       "    'BeaconEntries': [{'Round': 2653152,\n",
       "      'Data': 'q4jydO0B0ZO9PIvUy44gmACAUvgmNQ5h9Tf7t1XQln3oTX38vdK2PB3QmEUgTCwDCHOZKkKsmFEcowUeKoKgwalEXg+Oj1x4ra34NGPt9hpbvqCwZ9XpRSEd9MOv1ObN'}],\n",
       "    'WinPoStProof': [{'PoStProof': 2,\n",
       "      'ProofBytes': 'mWqPd+mf5vADhHRqy8LNAkbYj6kK5r+HoeJg6WDklMRsQWByyqZD0tSDsLNH6xmAoHJ0qz/bElI/pQ1QGyKej84HYnFUJR7n8jPuytsbhbVHwdSqIt8XL7wowmmVjz6jBVAmbkvSHzbV+dpCnUETNlj+UiAv7/N5eF3GxfQCVD2tm8CtwxbOjLMmvwouLP+mhOLt/hh2k1dRhQjlfwGRzTZ+pXe6tebvNlIufI2wEPr13eVm8JPv0bQxZMd9s71D'}],\n",
       "    'Parents': [{'/': 'bafy2bzacedngblbn6hsha3mbpw6iujundtef2d3sneqcwe5xp7nkxvplk7lsk'},\n",
       "     {'/': 'bafy2bzacectstfxjfcw7vgg3327y2oe26eikv7bk2napcp6jcsui7w7tbhbhm'}],\n",
       "    'ParentWeight': '636434720',\n",
       "    'Height': 39227,\n",
       "    'ParentStateRoot': {'/': 'bafy2bzaceakevayyhkgjnewlau6rcjnri2mjpckhepzld7eyf3tkcfop2lghc'},\n",
       "    'ParentMessageReceipts': {'/': 'bafy2bzacedswlcz5ddgqnyo3sak3jmhmkxashisnlpq6ujgyhe4mlobzpnhs6'},\n",
       "    'Messages': {'/': 'bafy2bzacedvrqjbfhlxtdauff7nix4uh67yvw4iebfkd2yw5r2g3fednop3gc'},\n",
       "    'BLSAggregate': {'Type': 2,\n",
       "     'Data': 'wAAAAAAAAAAAAAAAAAAAAAAAAAAAAAAAAAAAAAAAAAAAAAAAAAAAAAAAAAAAAAAAAAAAAAAAAAAAAAAAAAAAAAAAAAAAAAAAAAAAAAAAAAAAAAAAAAAAAAAAAAAAAAAA'},\n",
       "    'Timestamp': 1675025610,\n",
       "    'BlockSig': {'Type': 2,\n",
       "     'Data': 'h3kIQ4stze/Pyqdf13RnTN94UYzOfp+U28PtRcxgCvIZfNrhCp/7rgV1EvLDhZFjFw6R53eNd1LjvcMyVIV4I43s9HcLOFhbgqGFJ8sUCqENoQsshl7fQQ8rDYn8FhZy'},\n",
       "    'ForkSignaling': 0,\n",
       "    'ParentBaseFee': '100'},\n",
       "   {'Miner': 't01130',\n",
       "    'Ticket': {'VRFProof': 'lmp+QNg1r3zP/vXkkZ+I8NHhlOZNuHGT7MAmWHRoLooE4nz0+HoXx+J8Ub4Y15A9DJXIJUfb2///XRvE357INLasd2qoIeLNxnTEbutMVmE0g4DBGg1mVHpGXdTBZwJm'},\n",
       "    'ElectionProof': {'WinCount': 2,\n",
       "     'VRFProof': 'sbiMIILHn3phhN3Mwe6Ai+RvYDTFqW+mcQVv64fFtU/nzThiMCHA1TJYcQatzLa2BX35bQ84i9C8EZPIWsLp1SUMvZSTDLuVcByxMfJuXrHN4wMSbQsxiSoVwD9DHfDs'},\n",
       "    'BeaconEntries': [{'Round': 2653152,\n",
       "      'Data': 'q4jydO0B0ZO9PIvUy44gmACAUvgmNQ5h9Tf7t1XQln3oTX38vdK2PB3QmEUgTCwDCHOZKkKsmFEcowUeKoKgwalEXg+Oj1x4ra34NGPt9hpbvqCwZ9XpRSEd9MOv1ObN'}],\n",
       "    'WinPoStProof': [{'PoStProof': 3,\n",
       "      'ProofBytes': 'tEhKQQZ/6pBAWaLtaoK5YaXMo6GG3tdOt8Y2drocW/VF1z8dYV7v1vcmZdqsuvEShU0cQZvnERRU7LNkljJsZrCgrZ4LCUb+tzQTvJHk7Yzckup9+X38ZYwWxT5n1+SDFDcRXCjgB0rjGh16smIkZ8ojoegGNGdFlG+1d7aqujLYCIt0NFxZ5TYUUnI5H+1atwoLWU0GBS/sUz3iL6I1mmnYRNSCMtifKnSrsjKHmxHEow8RLn0eau1BKf5YAOkw'}],\n",
       "    'Parents': [{'/': 'bafy2bzacedngblbn6hsha3mbpw6iujundtef2d3sneqcwe5xp7nkxvplk7lsk'},\n",
       "     {'/': 'bafy2bzacectstfxjfcw7vgg3327y2oe26eikv7bk2napcp6jcsui7w7tbhbhm'}],\n",
       "    'ParentWeight': '636434720',\n",
       "    'Height': 39227,\n",
       "    'ParentStateRoot': {'/': 'bafy2bzaceakevayyhkgjnewlau6rcjnri2mjpckhepzld7eyf3tkcfop2lghc'},\n",
       "    'ParentMessageReceipts': {'/': 'bafy2bzacedswlcz5ddgqnyo3sak3jmhmkxashisnlpq6ujgyhe4mlobzpnhs6'},\n",
       "    'Messages': {'/': 'bafy2bzacedvrqjbfhlxtdauff7nix4uh67yvw4iebfkd2yw5r2g3fednop3gc'},\n",
       "    'BLSAggregate': {'Type': 2,\n",
       "     'Data': 'wAAAAAAAAAAAAAAAAAAAAAAAAAAAAAAAAAAAAAAAAAAAAAAAAAAAAAAAAAAAAAAAAAAAAAAAAAAAAAAAAAAAAAAAAAAAAAAAAAAAAAAAAAAAAAAAAAAAAAAAAAAAAAAA'},\n",
       "    'Timestamp': 1675025610,\n",
       "    'BlockSig': {'Type': 2,\n",
       "     'Data': 'pZf24flajqpJIG66yCOHQOgBGpqCp8UI5igmTDe5L3R7SGJ72/ICDlxY1g/jbWfZAkny95Q4Rq6FHcfB5shIWvF4uJxoNESprT48Zx9L8k4wt5FV/LGUE+3MFujNOIKg'},\n",
       "    'ForkSignaling': 0,\n",
       "    'ParentBaseFee': '100'},\n",
       "   {'Miner': 't01648',\n",
       "    'Ticket': {'VRFProof': 'iJYIkBCI8Da/q2PYrPjT8wqFfXheAhYXZLiUqxc2CzvOs/gwz1dr8TL9PYgzblytC+E1mET4cEvkxuUXOCX9sF0BbFvdmcL2KQzQYLeiDhY/4W23uSKsyfjm9Ha+HkLt'},\n",
       "    'ElectionProof': {'WinCount': 1,\n",
       "     'VRFProof': 'opqGWgDHhjx2G2YSm0WgpM+44NFwxEYv7QYLN+eXrwKL6UEZuLn/hToWz8Bog3l+GDZGszbBOj9z/SpsYKSjrS7OJeoI/ZcUb1u93IFExIWbAU0qPNDbyP5MfBZSZsRV'},\n",
       "    'BeaconEntries': [{'Round': 2653152,\n",
       "      'Data': 'q4jydO0B0ZO9PIvUy44gmACAUvgmNQ5h9Tf7t1XQln3oTX38vdK2PB3QmEUgTCwDCHOZKkKsmFEcowUeKoKgwalEXg+Oj1x4ra34NGPt9hpbvqCwZ9XpRSEd9MOv1ObN'}],\n",
       "    'WinPoStProof': [{'PoStProof': 3,\n",
       "      'ProofBytes': 'oGJDsA4W9ZUFNQ6c9uSKZev25Jm3EqCQ4MIehhUhroQWXKo34daoPmMxjPyCstpHkZR995XFfXxt0e46q/BWJ3NKnlMC4T4emC36n1xYMKG+h/yKJ8H+3hAuwXAytB6tDKmeN7QdsgjjW1ssqjcPLuIy08L+yUB1LDMNxx5ss0aeGYWYqFqEK8VSz6DjMPwMrs5t42iuxvExVzlFjsAh+Gc3NmRPhmnApiEX7Ud+QlOjI49guQxFfJyD+9SqH+Sr'}],\n",
       "    'Parents': [{'/': 'bafy2bzacedngblbn6hsha3mbpw6iujundtef2d3sneqcwe5xp7nkxvplk7lsk'},\n",
       "     {'/': 'bafy2bzacectstfxjfcw7vgg3327y2oe26eikv7bk2napcp6jcsui7w7tbhbhm'}],\n",
       "    'ParentWeight': '636434720',\n",
       "    'Height': 39227,\n",
       "    'ParentStateRoot': {'/': 'bafy2bzaceakevayyhkgjnewlau6rcjnri2mjpckhepzld7eyf3tkcfop2lghc'},\n",
       "    'ParentMessageReceipts': {'/': 'bafy2bzacedswlcz5ddgqnyo3sak3jmhmkxashisnlpq6ujgyhe4mlobzpnhs6'},\n",
       "    'Messages': {'/': 'bafy2bzacedvrqjbfhlxtdauff7nix4uh67yvw4iebfkd2yw5r2g3fednop3gc'},\n",
       "    'BLSAggregate': {'Type': 2,\n",
       "     'Data': 'wAAAAAAAAAAAAAAAAAAAAAAAAAAAAAAAAAAAAAAAAAAAAAAAAAAAAAAAAAAAAAAAAAAAAAAAAAAAAAAAAAAAAAAAAAAAAAAAAAAAAAAAAAAAAAAAAAAAAAAAAAAAAAAA'},\n",
       "    'Timestamp': 1675025610,\n",
       "    'BlockSig': {'Type': 2,\n",
       "     'Data': 'lh9XMzT25iy7iuiT7XkTLDH7J5CcCGmlQkAwUQ5Q7MYN8yxYlr7AzKvyKCgdiMD+FQB5v2ZmmZbvceCLS0CJfTkWpGIP32cHkwAjAHb+hcxLFCyyxC8ZkaaNGapxsVYw'},\n",
       "    'ForkSignaling': 0,\n",
       "    'ParentBaseFee': '100'}],\n",
       "  'Height': 39227},\n",
       " 'id': 2}"
      ]
     },
     "execution_count": 87,
     "metadata": {},
     "output_type": "execute_result"
    }
   ],
   "source": [
    "import requests\n",
    "import base64\n",
    "\n",
    "url = \"https://api.hyperspace.node.glif.io\"\n",
    "\n",
    "\n",
    "# Example echo method\n",
    "payload = {\n",
    "    \"id\": 2,\n",
    "    \"jsonrpc\": \"2.0\",\n",
    "    \"method\": \"Filecoin.ChainGetTipSetByHeight\",\n",
    "    \"params\": [39227, None]\n",
    "}\n",
    "response = requests.post(url, json=payload, headers={\n",
    "                         \"Content-Type\": \"application/json\"})\n",
    "response = response.json()\n",
    "response\n",
    "block_number = response['result']['Cid']\n"
   ]
  },
  {
   "cell_type": "code",
   "execution_count": 86,
   "metadata": {},
   "outputs": [
    {
     "data": {
      "text/plain": [
       "{'jsonrpc': '2.0',\n",
       " 'id': 1,\n",
       " 'error': {'code': 1,\n",
       "  'message': 'load events amt: cbor input had wrong number of fields'}}"
      ]
     },
     "execution_count": 86,
     "metadata": {},
     "output_type": "execute_result"
    }
   ],
   "source": [
    "import requests\n",
    "import base64\n",
    "\n",
    "url = \"https://api.hyperspace.node.glif.io\"\n",
    "\n",
    "p1 = {\n",
    "    \"/\": \"bafy2bzaceaossdrq3dtxhkdq6jzmgy2a4qtskewsm346qyk4u4mld4j2khj6o\"\n",
    "}\n",
    "\n",
    "\n",
    "# Example echo method\n",
    "payload = {\n",
    "    \"id\": 1,\n",
    "    \"jsonrpc\": \"2.0\",\n",
    "    \"method\": \"Filecoin.ChainGetEvents\",\n",
    "    \"params\": [p1]\n",
    "}\n",
    "response = requests.post(url, json=payload, headers={\n",
    "                         \"Content-Type\": \"application/json\"})\n",
    "response = response.json()\n",
    "response\n"
   ]
  },
  {
   "cell_type": "code",
   "execution_count": 107,
   "metadata": {},
   "outputs": [
    {
     "data": {
      "text/plain": [
       "'WESQuYoRAAAAAAAAAAAAAAAAkPFOMoKXdBYoYIXg2QIQpAC+/SIAAAAAAAAAAAAAAAAAAAAAAAAAAAAAAAAAAAAAAAAD6A=='"
      ]
     },
     "execution_count": 107,
     "metadata": {},
     "output_type": "execute_result"
    }
   ],
   "source": [
    "import requests\n",
    "import base64\n",
    "\n",
    "url = \"https://api.hyperspace.node.glif.io\"\n",
    "\n",
    "p1 = {\n",
    "    \"/\": \"bafy2bzaceaye7qmbbzrec4rvfrnprdfuuzuu6ff757izeabwrqfhgy422cxac\"\n",
    "}\n",
    "\n",
    "\n",
    "# Example echo method\n",
    "payload = {\n",
    "    \"id\": 1,\n",
    "    \"jsonrpc\": \"2.0\",\n",
    "    \"method\": \"Filecoin.ChainGetBlockMessages\",\n",
    "    \"params\": [p1]\n",
    "}\n",
    "response = requests.post(url, json=payload, headers={\n",
    "                         \"Content-Type\": \"application/json\"})\n",
    "response = response.json()\n",
    "params = response['result']['SecpkMessages'][0]['Message']['Params']\n",
    "params"
   ]
  },
  {
   "cell_type": "code",
   "execution_count": 108,
   "metadata": {},
   "outputs": [
    {
     "name": "stdout",
     "output_type": "stream",
     "text": [
      "b'XD\\x90\\xb9\\x8a\\x11\\x00\\x00\\x00\\x00\\x00\\x00\\x00\\x00\\x00\\x00\\x00\\x00\\x90\\xf1N2\\x82\\x97t\\x16(`\\x85\\xe0\\xd9\\x02\\x10\\xa4\\x00\\xbe\\xfd\"\\x00\\x00\\x00\\x00\\x00\\x00\\x00\\x00\\x00\\x00\\x00\\x00\\x00\\x00\\x00\\x00\\x00\\x00\\x00\\x00\\x00\\x00\\x00\\x00\\x00\\x00\\x00\\x00\\x00\\x00\\x03\\xe8'\n"
     ]
    }
   ],
   "source": [
    "import base64\n",
    "import cbor2\n",
    "# Decode base64 encoded string\n",
    "decoded_params = base64.b64decode(params)\n",
    "print(decoded_params)\n",
    "\n"
   ]
  },
  {
   "cell_type": "code",
   "execution_count": 109,
   "metadata": {},
   "outputs": [
    {
     "data": {
      "text/plain": [
       "b'\\x90\\xb9\\x8a\\x11\\x00\\x00\\x00\\x00\\x00\\x00\\x00\\x00\\x00\\x00\\x00\\x00\\x90\\xf1N2\\x82\\x97t\\x16(`\\x85\\xe0\\xd9\\x02\\x10\\xa4\\x00\\xbe\\xfd\"\\x00\\x00\\x00\\x00\\x00\\x00\\x00\\x00\\x00\\x00\\x00\\x00\\x00\\x00\\x00\\x00\\x00\\x00\\x00\\x00\\x00\\x00\\x00\\x00\\x00\\x00\\x00\\x00\\x00\\x00\\x03\\xe8'"
      ]
     },
     "execution_count": 109,
     "metadata": {},
     "output_type": "execute_result"
    }
   ],
   "source": [
    "def cbor_to_text(cbor_data):\n",
    "    decoded = cbor2.loads(cbor_data)\n",
    "    return decoded\n",
    "\n",
    "\n",
    "params_buffer = cbor_to_text(decoded_params)\n",
    "params_buffer\n"
   ]
  },
  {
   "cell_type": "code",
   "execution_count": 111,
   "metadata": {},
   "outputs": [
    {
     "name": "stdout",
     "output_type": "stream",
     "text": [
      "90b98a1100000000000000000000000090f14e3282977416286085e0d90210a400befd2200000000000000000000000000000000000000000000000000000000000003e8\n"
     ]
    }
   ],
   "source": [
    "def bytes_to_hex(b):\n",
    "    return ''.join('{:02x}'.format(x) for x in b)\n",
    "\n",
    "hex_data = bytes_to_hex(params_buffer)\n",
    "print(hex_data)\n",
    "\n",
    "# params_hex = hex(params_buffer)\n",
    "\n",
    "# params_hex"
   ]
  },
  {
   "cell_type": "code",
   "execution_count": 113,
   "metadata": {},
   "outputs": [],
   "source": [
    "abi = '''[\n",
    "    {\n",
    "      \"inputs\": [\n",
    "        {\n",
    "          \"internalType\": \"uint256\",\n",
    "          \"name\": \"tokensToBeMinted\",\n",
    "          \"type\": \"uint256\"\n",
    "        }\n",
    "      ],\n",
    "      \"stateMutability\": \"nonpayable\",\n",
    "      \"type\": \"constructor\"\n",
    "    },\n",
    "    {\n",
    "      \"inputs\": [],\n",
    "      \"name\": \"SimpleCoin__NotEnoughBalance\",\n",
    "      \"type\": \"error\"\n",
    "    },\n",
    "    {\n",
    "      \"anonymous\": false,\n",
    "      \"inputs\": [\n",
    "        {\n",
    "          \"indexed\": false,\n",
    "          \"internalType\": \"address\",\n",
    "          \"name\": \"from\",\n",
    "          \"type\": \"address\"\n",
    "        },\n",
    "        {\n",
    "          \"indexed\": false,\n",
    "          \"internalType\": \"address\",\n",
    "          \"name\": \"to\",\n",
    "          \"type\": \"address\"\n",
    "        },\n",
    "        {\n",
    "          \"indexed\": false,\n",
    "          \"internalType\": \"uint256\",\n",
    "          \"name\": \"amount\",\n",
    "          \"type\": \"uint256\"\n",
    "        }\n",
    "      ],\n",
    "      \"name\": \"SentToken\",\n",
    "      \"type\": \"event\"\n",
    "    },\n",
    "    {\n",
    "      \"anonymous\": false,\n",
    "      \"inputs\": [],\n",
    "      \"name\": \"TestEvent2\",\n",
    "      \"type\": \"event\"\n",
    "    },\n",
    "    {\n",
    "      \"inputs\": [\n",
    "        {\n",
    "          \"internalType\": \"address\",\n",
    "          \"name\": \"addr\",\n",
    "          \"type\": \"address\"\n",
    "        }\n",
    "      ],\n",
    "      \"name\": \"getBalance\",\n",
    "      \"outputs\": [\n",
    "        {\n",
    "          \"internalType\": \"uint256\",\n",
    "          \"name\": \"\",\n",
    "          \"type\": \"uint256\"\n",
    "        }\n",
    "      ],\n",
    "      \"stateMutability\": \"view\",\n",
    "      \"type\": \"function\"\n",
    "    },\n",
    "    {\n",
    "      \"inputs\": [\n",
    "        {\n",
    "          \"internalType\": \"address\",\n",
    "          \"name\": \"addr\",\n",
    "          \"type\": \"address\"\n",
    "        }\n",
    "      ],\n",
    "      \"name\": \"getBalanceInEth\",\n",
    "      \"outputs\": [\n",
    "        {\n",
    "          \"internalType\": \"uint256\",\n",
    "          \"name\": \"\",\n",
    "          \"type\": \"uint256\"\n",
    "        }\n",
    "      ],\n",
    "      \"stateMutability\": \"view\",\n",
    "      \"type\": \"function\"\n",
    "    },\n",
    "    {\n",
    "      \"inputs\": [],\n",
    "      \"name\": \"getMintedTokenBalance\",\n",
    "      \"outputs\": [\n",
    "        {\n",
    "          \"internalType\": \"uint256\",\n",
    "          \"name\": \"\",\n",
    "          \"type\": \"uint256\"\n",
    "        }\n",
    "      ],\n",
    "      \"stateMutability\": \"view\",\n",
    "      \"type\": \"function\"\n",
    "    },\n",
    "    {\n",
    "      \"inputs\": [\n",
    "        {\n",
    "          \"internalType\": \"address\",\n",
    "          \"name\": \"receiver\",\n",
    "          \"type\": \"address\"\n",
    "        },\n",
    "        {\n",
    "          \"internalType\": \"uint256\",\n",
    "          \"name\": \"amount\",\n",
    "          \"type\": \"uint256\"\n",
    "        }\n",
    "      ],\n",
    "      \"name\": \"sendCoin\",\n",
    "      \"outputs\": [\n",
    "        {\n",
    "          \"internalType\": \"bool\",\n",
    "          \"name\": \"sufficient\",\n",
    "          \"type\": \"bool\"\n",
    "        }\n",
    "      ],\n",
    "      \"stateMutability\": \"nonpayable\",\n",
    "      \"type\": \"function\"\n",
    "    }\n",
    "  ]'''"
   ]
  },
  {
   "cell_type": "code",
   "execution_count": 114,
   "metadata": {},
   "outputs": [
    {
     "ename": "AttributeError",
     "evalue": "module 'web3' has no attribute 'abi'",
     "output_type": "error",
     "traceback": [
      "\u001b[0;31m---------------------------------------------------------------------------\u001b[0m",
      "\u001b[0;31mAttributeError\u001b[0m                            Traceback (most recent call last)",
      "\u001b[0;32m/var/folders/7q/v86mnbls3_x0xfp8b48_cq7r0000gn/T/ipykernel_99785/442274258.py\u001b[0m in \u001b[0;36m<module>\u001b[0;34m\u001b[0m\n\u001b[1;32m     18\u001b[0m \u001b[0mfunction_name\u001b[0m \u001b[0;34m=\u001b[0m \u001b[0;34m\"sendCoin\"\u001b[0m\u001b[0;34m\u001b[0m\u001b[0;34m\u001b[0m\u001b[0m\n\u001b[1;32m     19\u001b[0m \u001b[0;34m\u001b[0m\u001b[0m\n\u001b[0;32m---> 20\u001b[0;31m \u001b[0msignature\u001b[0m \u001b[0;34m=\u001b[0m \u001b[0mget_function_signature\u001b[0m\u001b[0;34m(\u001b[0m\u001b[0mcontract_abi\u001b[0m\u001b[0;34m,\u001b[0m \u001b[0mfunction_name\u001b[0m\u001b[0;34m)\u001b[0m\u001b[0;34m\u001b[0m\u001b[0;34m\u001b[0m\u001b[0m\n\u001b[0m\u001b[1;32m     21\u001b[0m \u001b[0mhash\u001b[0m \u001b[0;34m=\u001b[0m \u001b[0mhashlib\u001b[0m\u001b[0;34m.\u001b[0m\u001b[0msha3_256\u001b[0m\u001b[0;34m(\u001b[0m\u001b[0msignature\u001b[0m\u001b[0;34m.\u001b[0m\u001b[0mencode\u001b[0m\u001b[0;34m(\u001b[0m\u001b[0;34m)\u001b[0m\u001b[0;34m)\u001b[0m\u001b[0;34m.\u001b[0m\u001b[0mhexdigest\u001b[0m\u001b[0;34m(\u001b[0m\u001b[0;34m)\u001b[0m\u001b[0;34m\u001b[0m\u001b[0;34m\u001b[0m\u001b[0m\n\u001b[1;32m     22\u001b[0m \u001b[0mfunction_signature\u001b[0m \u001b[0;34m=\u001b[0m \u001b[0mhash\u001b[0m\u001b[0;34m[\u001b[0m\u001b[0;34m:\u001b[0m\u001b[0;36m8\u001b[0m\u001b[0;34m]\u001b[0m\u001b[0;34m\u001b[0m\u001b[0;34m\u001b[0m\u001b[0m\n",
      "\u001b[0;32m/var/folders/7q/v86mnbls3_x0xfp8b48_cq7r0000gn/T/ipykernel_99785/442274258.py\u001b[0m in \u001b[0;36mget_function_signature\u001b[0;34m(contract_abi, function_name)\u001b[0m\n\u001b[1;32m      4\u001b[0m \u001b[0;34m\u001b[0m\u001b[0m\n\u001b[1;32m      5\u001b[0m \u001b[0;32mdef\u001b[0m \u001b[0mget_function_signature\u001b[0m\u001b[0;34m(\u001b[0m\u001b[0mcontract_abi\u001b[0m\u001b[0;34m,\u001b[0m \u001b[0mfunction_name\u001b[0m\u001b[0;34m)\u001b[0m\u001b[0;34m:\u001b[0m\u001b[0;34m\u001b[0m\u001b[0;34m\u001b[0m\u001b[0m\n\u001b[0;32m----> 6\u001b[0;31m     \u001b[0mabi\u001b[0m \u001b[0;34m=\u001b[0m \u001b[0mweb3\u001b[0m\u001b[0;34m.\u001b[0m\u001b[0mabi\u001b[0m\u001b[0;34m.\u001b[0m\u001b[0mABI\u001b[0m\u001b[0;34m.\u001b[0m\u001b[0mdeserialize\u001b[0m\u001b[0;34m(\u001b[0m\u001b[0mcontract_abi\u001b[0m\u001b[0;34m)\u001b[0m\u001b[0;34m\u001b[0m\u001b[0;34m\u001b[0m\u001b[0m\n\u001b[0m\u001b[1;32m      7\u001b[0m     \u001b[0;32mfor\u001b[0m \u001b[0mabi_item\u001b[0m \u001b[0;32min\u001b[0m \u001b[0mabi\u001b[0m\u001b[0;34m:\u001b[0m\u001b[0;34m\u001b[0m\u001b[0;34m\u001b[0m\u001b[0m\n\u001b[1;32m      8\u001b[0m         \u001b[0;32mif\u001b[0m \u001b[0mabi_item\u001b[0m\u001b[0;34m[\u001b[0m\u001b[0;34m'name'\u001b[0m\u001b[0;34m]\u001b[0m \u001b[0;34m==\u001b[0m \u001b[0mfunction_name\u001b[0m\u001b[0;34m:\u001b[0m\u001b[0;34m\u001b[0m\u001b[0;34m\u001b[0m\u001b[0m\n",
      "\u001b[0;31mAttributeError\u001b[0m: module 'web3' has no attribute 'abi'"
     ]
    }
   ],
   "source": [
    "import hashlib\n",
    "import web3\n",
    "\n",
    "def get_function_signature(contract_abi, function_name):\n",
    "    abi = web3.abi.ABI.deserialize(contract_abi)\n",
    "    for abi_item in abi:\n",
    "        if abi_item['name'] == function_name:\n",
    "            signature = abi_item['signature']\n",
    "            break\n",
    "    else:\n",
    "        raise ValueError(\"Function not found in ABI\")\n",
    "\n",
    "    return signature\n",
    "\n",
    "\n",
    "\n",
    "\n",
    "contract_abi = abi\n",
    "function_name = \"sendCoin\"\n",
    "\n",
    "signature = get_function_signature(contract_abi, function_name)\n",
    "hash = hashlib.sha3_256(signature.encode()).hexdigest()\n",
    "function_signature = hash[:8]\n",
    "print(function_signature)\n"
   ]
  },
  {
   "cell_type": "code",
   "execution_count": 115,
   "metadata": {},
   "outputs": [
    {
     "name": "stdout",
     "output_type": "stream",
     "text": [
      "0x90b98a11\n"
     ]
    }
   ],
   "source": [
    "import web3  # Release 4.0.0-beta.9\n",
    "w3 = web3.Web3()\n",
    "\n",
    "# value1, value2 = 10, 32  # your input value here\n",
    "function = 'sendCoin(address,uint256)'\n",
    "methodId = w3.sha3(text=function)[0:4].hex()\n",
    "\n",
    "print(methodId)\n"
   ]
  },
  {
   "cell_type": "code",
   "execution_count": 117,
   "metadata": {},
   "outputs": [
    {
     "data": {
      "text/plain": [
       "{'jsonrpc': '2.0',\n",
       " 'result': {'Version': 0,\n",
       "  'To': 't410fpnspqoyrqptej2kjlx5emxt25o4oi6pruvouyeq',\n",
       "  'From': 't410f677uikubqtqrgr3lnd25ft7ok6wrvzw636qumvy',\n",
       "  'Nonce': 8,\n",
       "  'Value': '0',\n",
       "  'GasLimit': 4269215,\n",
       "  'GasFeeCap': '1500000200',\n",
       "  'GasPremium': '1500000000',\n",
       "  'Method': 3844450837,\n",
       "  'Params': 'WESQuYoRAAAAAAAAAAAAAAAAkPFOMoKXdBYoYIXg2QIQpAC+/SIAAAAAAAAAAAAAAAAAAAAAAAAAAAAAAAAAAAAAAAAD6A==',\n",
       "  'CID': {'/': 'bafy2bzacectnvpmf4ahvrvxlt7jrjxy4ljjfduqdueygxbtfrbvjd47qwsmr4'}},\n",
       " 'id': 1}"
      ]
     },
     "execution_count": 117,
     "metadata": {},
     "output_type": "execute_result"
    }
   ],
   "source": [
    "import requests\n",
    "import base64\n",
    "\n",
    "url = \"https://api.hyperspace.node.glif.io\"\n",
    "\n",
    "p1 = {\n",
    "    \"/\": \"bafy2bzaceaossdrq3dtxhkdq6jzmgy2a4qtskewsm346qyk4u4mld4j2khj6o\"\n",
    "}\n",
    "\n",
    "\n",
    "# Example echo method\n",
    "payload = {\n",
    "    \"id\": 1,\n",
    "    \"jsonrpc\": \"2.0\",\n",
    "    \"method\": \"Filecoin.ChainGetMessage\",\n",
    "    \"params\": [p1]\n",
    "}\n",
    "response = requests.post(url, json=payload, headers={\n",
    "                         \"Content-Type\": \"application/json\"})\n",
    "response = response.json()\n",
    "response\n",
    "# params = response['result']['SecpkMessages'][0]['Message']['Params']\n",
    "# params\n"
   ]
  },
  {
   "cell_type": "code",
   "execution_count": 120,
   "metadata": {},
   "outputs": [
    {
     "data": {
      "text/plain": [
       "{'jsonrpc': '2.0',\n",
       " 'id': 1,\n",
       " 'error': {'code': 1,\n",
       "  'message': 'load events amt: cbor input had wrong number of fields'}}"
      ]
     },
     "execution_count": 120,
     "metadata": {},
     "output_type": "execute_result"
    }
   ],
   "source": [
    "import requests\n",
    "import base64\n",
    "\n",
    "url = \"https://api.hyperspace.node.glif.io\"\n",
    "\n",
    "p1 = {\n",
    "    \"/\": \"bafy2bzaceayfiovbmmovun7aivn23avbg2j4lqf5xcsmp4k37a2k7l2yh5jo2\"\n",
    "}\n",
    "\n",
    "\n",
    "# Example echo method\n",
    "payload = {\n",
    "    \"id\": 1,\n",
    "    \"jsonrpc\": \"2.0\",\n",
    "    \"method\": \"Filecoin.ChainGetEvents\",\n",
    "    \"params\": [p1]\n",
    "}\n",
    "response = requests.post(url, json=payload, headers={\n",
    "                         \"Content-Type\": \"application/json\"})\n",
    "response = response.json()\n",
    "response\n"
   ]
  },
  {
   "cell_type": "code",
   "execution_count": 124,
   "metadata": {},
   "outputs": [
    {
     "ename": "KeyboardInterrupt",
     "evalue": "",
     "output_type": "error",
     "traceback": [
      "\u001b[0;31m---------------------------------------------------------------------------\u001b[0m",
      "\u001b[0;31mKeyboardInterrupt\u001b[0m                         Traceback (most recent call last)",
      "\u001b[0;32m/var/folders/7q/v86mnbls3_x0xfp8b48_cq7r0000gn/T/ipykernel_99785/3076259206.py\u001b[0m in \u001b[0;36m<module>\u001b[0;34m\u001b[0m\n\u001b[1;32m      1\u001b[0m \u001b[0;32mimport\u001b[0m \u001b[0mrequests\u001b[0m\u001b[0;34m\u001b[0m\u001b[0;34m\u001b[0m\u001b[0m\n\u001b[1;32m      2\u001b[0m \u001b[0;34m\u001b[0m\u001b[0m\n\u001b[0;32m----> 3\u001b[0;31m request = requests.get(\n\u001b[0m\u001b[1;32m      4\u001b[0m     'https://ipfs.io/ipfs/bafy2bzaceaossdrq3dtxhkdq6jzmgy2a4qtskewsm346qyk4u4mld4j2khj6o')\n\u001b[1;32m      5\u001b[0m \u001b[0mrequest\u001b[0m\u001b[0;34m\u001b[0m\u001b[0;34m\u001b[0m\u001b[0m\n",
      "\u001b[0;32m~/Library/Python/3.8/lib/python/site-packages/requests/api.py\u001b[0m in \u001b[0;36mget\u001b[0;34m(url, params, **kwargs)\u001b[0m\n\u001b[1;32m     71\u001b[0m     \"\"\"\n\u001b[1;32m     72\u001b[0m \u001b[0;34m\u001b[0m\u001b[0m\n\u001b[0;32m---> 73\u001b[0;31m     \u001b[0;32mreturn\u001b[0m \u001b[0mrequest\u001b[0m\u001b[0;34m(\u001b[0m\u001b[0;34m\"get\"\u001b[0m\u001b[0;34m,\u001b[0m \u001b[0murl\u001b[0m\u001b[0;34m,\u001b[0m \u001b[0mparams\u001b[0m\u001b[0;34m=\u001b[0m\u001b[0mparams\u001b[0m\u001b[0;34m,\u001b[0m \u001b[0;34m**\u001b[0m\u001b[0mkwargs\u001b[0m\u001b[0;34m)\u001b[0m\u001b[0;34m\u001b[0m\u001b[0;34m\u001b[0m\u001b[0m\n\u001b[0m\u001b[1;32m     74\u001b[0m \u001b[0;34m\u001b[0m\u001b[0m\n\u001b[1;32m     75\u001b[0m \u001b[0;34m\u001b[0m\u001b[0m\n",
      "\u001b[0;32m~/Library/Python/3.8/lib/python/site-packages/requests/api.py\u001b[0m in \u001b[0;36mrequest\u001b[0;34m(method, url, **kwargs)\u001b[0m\n\u001b[1;32m     57\u001b[0m     \u001b[0;31m# cases, and look like a memory leak in others.\u001b[0m\u001b[0;34m\u001b[0m\u001b[0;34m\u001b[0m\u001b[0;34m\u001b[0m\u001b[0m\n\u001b[1;32m     58\u001b[0m     \u001b[0;32mwith\u001b[0m \u001b[0msessions\u001b[0m\u001b[0;34m.\u001b[0m\u001b[0mSession\u001b[0m\u001b[0;34m(\u001b[0m\u001b[0;34m)\u001b[0m \u001b[0;32mas\u001b[0m \u001b[0msession\u001b[0m\u001b[0;34m:\u001b[0m\u001b[0;34m\u001b[0m\u001b[0;34m\u001b[0m\u001b[0m\n\u001b[0;32m---> 59\u001b[0;31m         \u001b[0;32mreturn\u001b[0m \u001b[0msession\u001b[0m\u001b[0;34m.\u001b[0m\u001b[0mrequest\u001b[0m\u001b[0;34m(\u001b[0m\u001b[0mmethod\u001b[0m\u001b[0;34m=\u001b[0m\u001b[0mmethod\u001b[0m\u001b[0;34m,\u001b[0m \u001b[0murl\u001b[0m\u001b[0;34m=\u001b[0m\u001b[0murl\u001b[0m\u001b[0;34m,\u001b[0m \u001b[0;34m**\u001b[0m\u001b[0mkwargs\u001b[0m\u001b[0;34m)\u001b[0m\u001b[0;34m\u001b[0m\u001b[0;34m\u001b[0m\u001b[0m\n\u001b[0m\u001b[1;32m     60\u001b[0m \u001b[0;34m\u001b[0m\u001b[0m\n\u001b[1;32m     61\u001b[0m \u001b[0;34m\u001b[0m\u001b[0m\n",
      "\u001b[0;32m~/Library/Python/3.8/lib/python/site-packages/requests/sessions.py\u001b[0m in \u001b[0;36mrequest\u001b[0;34m(self, method, url, params, data, headers, cookies, files, auth, timeout, allow_redirects, proxies, hooks, stream, verify, cert, json)\u001b[0m\n\u001b[1;32m    585\u001b[0m         }\n\u001b[1;32m    586\u001b[0m         \u001b[0msend_kwargs\u001b[0m\u001b[0;34m.\u001b[0m\u001b[0mupdate\u001b[0m\u001b[0;34m(\u001b[0m\u001b[0msettings\u001b[0m\u001b[0;34m)\u001b[0m\u001b[0;34m\u001b[0m\u001b[0;34m\u001b[0m\u001b[0m\n\u001b[0;32m--> 587\u001b[0;31m         \u001b[0mresp\u001b[0m \u001b[0;34m=\u001b[0m \u001b[0mself\u001b[0m\u001b[0;34m.\u001b[0m\u001b[0msend\u001b[0m\u001b[0;34m(\u001b[0m\u001b[0mprep\u001b[0m\u001b[0;34m,\u001b[0m \u001b[0;34m**\u001b[0m\u001b[0msend_kwargs\u001b[0m\u001b[0;34m)\u001b[0m\u001b[0;34m\u001b[0m\u001b[0;34m\u001b[0m\u001b[0m\n\u001b[0m\u001b[1;32m    588\u001b[0m \u001b[0;34m\u001b[0m\u001b[0m\n\u001b[1;32m    589\u001b[0m         \u001b[0;32mreturn\u001b[0m \u001b[0mresp\u001b[0m\u001b[0;34m\u001b[0m\u001b[0;34m\u001b[0m\u001b[0m\n",
      "\u001b[0;32m~/Library/Python/3.8/lib/python/site-packages/requests/sessions.py\u001b[0m in \u001b[0;36msend\u001b[0;34m(self, request, **kwargs)\u001b[0m\n\u001b[1;32m    699\u001b[0m \u001b[0;34m\u001b[0m\u001b[0m\n\u001b[1;32m    700\u001b[0m         \u001b[0;31m# Send the request\u001b[0m\u001b[0;34m\u001b[0m\u001b[0;34m\u001b[0m\u001b[0;34m\u001b[0m\u001b[0m\n\u001b[0;32m--> 701\u001b[0;31m         \u001b[0mr\u001b[0m \u001b[0;34m=\u001b[0m \u001b[0madapter\u001b[0m\u001b[0;34m.\u001b[0m\u001b[0msend\u001b[0m\u001b[0;34m(\u001b[0m\u001b[0mrequest\u001b[0m\u001b[0;34m,\u001b[0m \u001b[0;34m**\u001b[0m\u001b[0mkwargs\u001b[0m\u001b[0;34m)\u001b[0m\u001b[0;34m\u001b[0m\u001b[0;34m\u001b[0m\u001b[0m\n\u001b[0m\u001b[1;32m    702\u001b[0m \u001b[0;34m\u001b[0m\u001b[0m\n\u001b[1;32m    703\u001b[0m         \u001b[0;31m# Total elapsed time of the request (approximately)\u001b[0m\u001b[0;34m\u001b[0m\u001b[0;34m\u001b[0m\u001b[0;34m\u001b[0m\u001b[0m\n",
      "\u001b[0;32m~/Library/Python/3.8/lib/python/site-packages/requests/adapters.py\u001b[0m in \u001b[0;36msend\u001b[0;34m(self, request, stream, timeout, verify, cert, proxies)\u001b[0m\n\u001b[1;32m    487\u001b[0m         \u001b[0;32mtry\u001b[0m\u001b[0;34m:\u001b[0m\u001b[0;34m\u001b[0m\u001b[0;34m\u001b[0m\u001b[0m\n\u001b[1;32m    488\u001b[0m             \u001b[0;32mif\u001b[0m \u001b[0;32mnot\u001b[0m \u001b[0mchunked\u001b[0m\u001b[0;34m:\u001b[0m\u001b[0;34m\u001b[0m\u001b[0;34m\u001b[0m\u001b[0m\n\u001b[0;32m--> 489\u001b[0;31m                 resp = conn.urlopen(\n\u001b[0m\u001b[1;32m    490\u001b[0m                     \u001b[0mmethod\u001b[0m\u001b[0;34m=\u001b[0m\u001b[0mrequest\u001b[0m\u001b[0;34m.\u001b[0m\u001b[0mmethod\u001b[0m\u001b[0;34m,\u001b[0m\u001b[0;34m\u001b[0m\u001b[0;34m\u001b[0m\u001b[0m\n\u001b[1;32m    491\u001b[0m                     \u001b[0murl\u001b[0m\u001b[0;34m=\u001b[0m\u001b[0murl\u001b[0m\u001b[0;34m,\u001b[0m\u001b[0;34m\u001b[0m\u001b[0;34m\u001b[0m\u001b[0m\n",
      "\u001b[0;32m~/Library/Python/3.8/lib/python/site-packages/urllib3/connectionpool.py\u001b[0m in \u001b[0;36murlopen\u001b[0;34m(self, method, url, body, headers, retries, redirect, assert_same_host, timeout, pool_timeout, release_conn, chunked, body_pos, **response_kw)\u001b[0m\n\u001b[1;32m    701\u001b[0m \u001b[0;34m\u001b[0m\u001b[0m\n\u001b[1;32m    702\u001b[0m             \u001b[0;31m# Make the request on the httplib connection object.\u001b[0m\u001b[0;34m\u001b[0m\u001b[0;34m\u001b[0m\u001b[0;34m\u001b[0m\u001b[0m\n\u001b[0;32m--> 703\u001b[0;31m             httplib_response = self._make_request(\n\u001b[0m\u001b[1;32m    704\u001b[0m                 \u001b[0mconn\u001b[0m\u001b[0;34m,\u001b[0m\u001b[0;34m\u001b[0m\u001b[0;34m\u001b[0m\u001b[0m\n\u001b[1;32m    705\u001b[0m                 \u001b[0mmethod\u001b[0m\u001b[0;34m,\u001b[0m\u001b[0;34m\u001b[0m\u001b[0;34m\u001b[0m\u001b[0m\n",
      "\u001b[0;32m~/Library/Python/3.8/lib/python/site-packages/urllib3/connectionpool.py\u001b[0m in \u001b[0;36m_make_request\u001b[0;34m(self, conn, method, url, timeout, chunked, **httplib_request_kw)\u001b[0m\n\u001b[1;32m    447\u001b[0m                     \u001b[0;31m# Python 3 (including for exceptions like SystemExit).\u001b[0m\u001b[0;34m\u001b[0m\u001b[0;34m\u001b[0m\u001b[0;34m\u001b[0m\u001b[0m\n\u001b[1;32m    448\u001b[0m                     \u001b[0;31m# Otherwise it looks like a bug in the code.\u001b[0m\u001b[0;34m\u001b[0m\u001b[0;34m\u001b[0m\u001b[0;34m\u001b[0m\u001b[0m\n\u001b[0;32m--> 449\u001b[0;31m                     \u001b[0msix\u001b[0m\u001b[0;34m.\u001b[0m\u001b[0mraise_from\u001b[0m\u001b[0;34m(\u001b[0m\u001b[0me\u001b[0m\u001b[0;34m,\u001b[0m \u001b[0;32mNone\u001b[0m\u001b[0;34m)\u001b[0m\u001b[0;34m\u001b[0m\u001b[0;34m\u001b[0m\u001b[0m\n\u001b[0m\u001b[1;32m    450\u001b[0m         \u001b[0;32mexcept\u001b[0m \u001b[0;34m(\u001b[0m\u001b[0mSocketTimeout\u001b[0m\u001b[0;34m,\u001b[0m \u001b[0mBaseSSLError\u001b[0m\u001b[0;34m,\u001b[0m \u001b[0mSocketError\u001b[0m\u001b[0;34m)\u001b[0m \u001b[0;32mas\u001b[0m \u001b[0me\u001b[0m\u001b[0;34m:\u001b[0m\u001b[0;34m\u001b[0m\u001b[0;34m\u001b[0m\u001b[0m\n\u001b[1;32m    451\u001b[0m             \u001b[0mself\u001b[0m\u001b[0;34m.\u001b[0m\u001b[0m_raise_timeout\u001b[0m\u001b[0;34m(\u001b[0m\u001b[0merr\u001b[0m\u001b[0;34m=\u001b[0m\u001b[0me\u001b[0m\u001b[0;34m,\u001b[0m \u001b[0murl\u001b[0m\u001b[0;34m=\u001b[0m\u001b[0murl\u001b[0m\u001b[0;34m,\u001b[0m \u001b[0mtimeout_value\u001b[0m\u001b[0;34m=\u001b[0m\u001b[0mread_timeout\u001b[0m\u001b[0;34m)\u001b[0m\u001b[0;34m\u001b[0m\u001b[0;34m\u001b[0m\u001b[0m\n",
      "\u001b[0;32m~/Library/Python/3.8/lib/python/site-packages/urllib3/packages/six.py\u001b[0m in \u001b[0;36mraise_from\u001b[0;34m(value, from_value)\u001b[0m\n",
      "\u001b[0;32m~/Library/Python/3.8/lib/python/site-packages/urllib3/connectionpool.py\u001b[0m in \u001b[0;36m_make_request\u001b[0;34m(self, conn, method, url, timeout, chunked, **httplib_request_kw)\u001b[0m\n\u001b[1;32m    442\u001b[0m                 \u001b[0;31m# Python 3\u001b[0m\u001b[0;34m\u001b[0m\u001b[0;34m\u001b[0m\u001b[0;34m\u001b[0m\u001b[0m\n\u001b[1;32m    443\u001b[0m                 \u001b[0;32mtry\u001b[0m\u001b[0;34m:\u001b[0m\u001b[0;34m\u001b[0m\u001b[0;34m\u001b[0m\u001b[0m\n\u001b[0;32m--> 444\u001b[0;31m                     \u001b[0mhttplib_response\u001b[0m \u001b[0;34m=\u001b[0m \u001b[0mconn\u001b[0m\u001b[0;34m.\u001b[0m\u001b[0mgetresponse\u001b[0m\u001b[0;34m(\u001b[0m\u001b[0;34m)\u001b[0m\u001b[0;34m\u001b[0m\u001b[0;34m\u001b[0m\u001b[0m\n\u001b[0m\u001b[1;32m    445\u001b[0m                 \u001b[0;32mexcept\u001b[0m \u001b[0mBaseException\u001b[0m \u001b[0;32mas\u001b[0m \u001b[0me\u001b[0m\u001b[0;34m:\u001b[0m\u001b[0;34m\u001b[0m\u001b[0;34m\u001b[0m\u001b[0m\n\u001b[1;32m    446\u001b[0m                     \u001b[0;31m# Remove the TypeError from the exception chain in\u001b[0m\u001b[0;34m\u001b[0m\u001b[0;34m\u001b[0m\u001b[0;34m\u001b[0m\u001b[0m\n",
      "\u001b[0;32m/Library/Frameworks/Python.framework/Versions/3.8/lib/python3.8/http/client.py\u001b[0m in \u001b[0;36mgetresponse\u001b[0;34m(self)\u001b[0m\n\u001b[1;32m   1345\u001b[0m         \u001b[0;32mtry\u001b[0m\u001b[0;34m:\u001b[0m\u001b[0;34m\u001b[0m\u001b[0;34m\u001b[0m\u001b[0m\n\u001b[1;32m   1346\u001b[0m             \u001b[0;32mtry\u001b[0m\u001b[0;34m:\u001b[0m\u001b[0;34m\u001b[0m\u001b[0;34m\u001b[0m\u001b[0m\n\u001b[0;32m-> 1347\u001b[0;31m                 \u001b[0mresponse\u001b[0m\u001b[0;34m.\u001b[0m\u001b[0mbegin\u001b[0m\u001b[0;34m(\u001b[0m\u001b[0;34m)\u001b[0m\u001b[0;34m\u001b[0m\u001b[0;34m\u001b[0m\u001b[0m\n\u001b[0m\u001b[1;32m   1348\u001b[0m             \u001b[0;32mexcept\u001b[0m \u001b[0mConnectionError\u001b[0m\u001b[0;34m:\u001b[0m\u001b[0;34m\u001b[0m\u001b[0;34m\u001b[0m\u001b[0m\n\u001b[1;32m   1349\u001b[0m                 \u001b[0mself\u001b[0m\u001b[0;34m.\u001b[0m\u001b[0mclose\u001b[0m\u001b[0;34m(\u001b[0m\u001b[0;34m)\u001b[0m\u001b[0;34m\u001b[0m\u001b[0;34m\u001b[0m\u001b[0m\n",
      "\u001b[0;32m/Library/Frameworks/Python.framework/Versions/3.8/lib/python3.8/http/client.py\u001b[0m in \u001b[0;36mbegin\u001b[0;34m(self)\u001b[0m\n\u001b[1;32m    305\u001b[0m         \u001b[0;31m# read until we get a non-100 response\u001b[0m\u001b[0;34m\u001b[0m\u001b[0;34m\u001b[0m\u001b[0;34m\u001b[0m\u001b[0m\n\u001b[1;32m    306\u001b[0m         \u001b[0;32mwhile\u001b[0m \u001b[0;32mTrue\u001b[0m\u001b[0;34m:\u001b[0m\u001b[0;34m\u001b[0m\u001b[0;34m\u001b[0m\u001b[0m\n\u001b[0;32m--> 307\u001b[0;31m             \u001b[0mversion\u001b[0m\u001b[0;34m,\u001b[0m \u001b[0mstatus\u001b[0m\u001b[0;34m,\u001b[0m \u001b[0mreason\u001b[0m \u001b[0;34m=\u001b[0m \u001b[0mself\u001b[0m\u001b[0;34m.\u001b[0m\u001b[0m_read_status\u001b[0m\u001b[0;34m(\u001b[0m\u001b[0;34m)\u001b[0m\u001b[0;34m\u001b[0m\u001b[0;34m\u001b[0m\u001b[0m\n\u001b[0m\u001b[1;32m    308\u001b[0m             \u001b[0;32mif\u001b[0m \u001b[0mstatus\u001b[0m \u001b[0;34m!=\u001b[0m \u001b[0mCONTINUE\u001b[0m\u001b[0;34m:\u001b[0m\u001b[0;34m\u001b[0m\u001b[0;34m\u001b[0m\u001b[0m\n\u001b[1;32m    309\u001b[0m                 \u001b[0;32mbreak\u001b[0m\u001b[0;34m\u001b[0m\u001b[0;34m\u001b[0m\u001b[0m\n",
      "\u001b[0;32m/Library/Frameworks/Python.framework/Versions/3.8/lib/python3.8/http/client.py\u001b[0m in \u001b[0;36m_read_status\u001b[0;34m(self)\u001b[0m\n\u001b[1;32m    266\u001b[0m \u001b[0;34m\u001b[0m\u001b[0m\n\u001b[1;32m    267\u001b[0m     \u001b[0;32mdef\u001b[0m \u001b[0m_read_status\u001b[0m\u001b[0;34m(\u001b[0m\u001b[0mself\u001b[0m\u001b[0;34m)\u001b[0m\u001b[0;34m:\u001b[0m\u001b[0;34m\u001b[0m\u001b[0;34m\u001b[0m\u001b[0m\n\u001b[0;32m--> 268\u001b[0;31m         \u001b[0mline\u001b[0m \u001b[0;34m=\u001b[0m \u001b[0mstr\u001b[0m\u001b[0;34m(\u001b[0m\u001b[0mself\u001b[0m\u001b[0;34m.\u001b[0m\u001b[0mfp\u001b[0m\u001b[0;34m.\u001b[0m\u001b[0mreadline\u001b[0m\u001b[0;34m(\u001b[0m\u001b[0m_MAXLINE\u001b[0m \u001b[0;34m+\u001b[0m \u001b[0;36m1\u001b[0m\u001b[0;34m)\u001b[0m\u001b[0;34m,\u001b[0m \u001b[0;34m\"iso-8859-1\"\u001b[0m\u001b[0;34m)\u001b[0m\u001b[0;34m\u001b[0m\u001b[0;34m\u001b[0m\u001b[0m\n\u001b[0m\u001b[1;32m    269\u001b[0m         \u001b[0;32mif\u001b[0m \u001b[0mlen\u001b[0m\u001b[0;34m(\u001b[0m\u001b[0mline\u001b[0m\u001b[0;34m)\u001b[0m \u001b[0;34m>\u001b[0m \u001b[0m_MAXLINE\u001b[0m\u001b[0;34m:\u001b[0m\u001b[0;34m\u001b[0m\u001b[0;34m\u001b[0m\u001b[0m\n\u001b[1;32m    270\u001b[0m             \u001b[0;32mraise\u001b[0m \u001b[0mLineTooLong\u001b[0m\u001b[0;34m(\u001b[0m\u001b[0;34m\"status line\"\u001b[0m\u001b[0;34m)\u001b[0m\u001b[0;34m\u001b[0m\u001b[0;34m\u001b[0m\u001b[0m\n",
      "\u001b[0;32m/Library/Frameworks/Python.framework/Versions/3.8/lib/python3.8/socket.py\u001b[0m in \u001b[0;36mreadinto\u001b[0;34m(self, b)\u001b[0m\n\u001b[1;32m    667\u001b[0m         \u001b[0;32mwhile\u001b[0m \u001b[0;32mTrue\u001b[0m\u001b[0;34m:\u001b[0m\u001b[0;34m\u001b[0m\u001b[0;34m\u001b[0m\u001b[0m\n\u001b[1;32m    668\u001b[0m             \u001b[0;32mtry\u001b[0m\u001b[0;34m:\u001b[0m\u001b[0;34m\u001b[0m\u001b[0;34m\u001b[0m\u001b[0m\n\u001b[0;32m--> 669\u001b[0;31m                 \u001b[0;32mreturn\u001b[0m \u001b[0mself\u001b[0m\u001b[0;34m.\u001b[0m\u001b[0m_sock\u001b[0m\u001b[0;34m.\u001b[0m\u001b[0mrecv_into\u001b[0m\u001b[0;34m(\u001b[0m\u001b[0mb\u001b[0m\u001b[0;34m)\u001b[0m\u001b[0;34m\u001b[0m\u001b[0;34m\u001b[0m\u001b[0m\n\u001b[0m\u001b[1;32m    670\u001b[0m             \u001b[0;32mexcept\u001b[0m \u001b[0mtimeout\u001b[0m\u001b[0;34m:\u001b[0m\u001b[0;34m\u001b[0m\u001b[0;34m\u001b[0m\u001b[0m\n\u001b[1;32m    671\u001b[0m                 \u001b[0mself\u001b[0m\u001b[0;34m.\u001b[0m\u001b[0m_timeout_occurred\u001b[0m \u001b[0;34m=\u001b[0m \u001b[0;32mTrue\u001b[0m\u001b[0;34m\u001b[0m\u001b[0;34m\u001b[0m\u001b[0m\n",
      "\u001b[0;32m/Library/Frameworks/Python.framework/Versions/3.8/lib/python3.8/ssl.py\u001b[0m in \u001b[0;36mrecv_into\u001b[0;34m(self, buffer, nbytes, flags)\u001b[0m\n\u001b[1;32m   1239\u001b[0m                   \u001b[0;34m\"non-zero flags not allowed in calls to recv_into() on %s\"\u001b[0m \u001b[0;34m%\u001b[0m\u001b[0;34m\u001b[0m\u001b[0;34m\u001b[0m\u001b[0m\n\u001b[1;32m   1240\u001b[0m                   self.__class__)\n\u001b[0;32m-> 1241\u001b[0;31m             \u001b[0;32mreturn\u001b[0m \u001b[0mself\u001b[0m\u001b[0;34m.\u001b[0m\u001b[0mread\u001b[0m\u001b[0;34m(\u001b[0m\u001b[0mnbytes\u001b[0m\u001b[0;34m,\u001b[0m \u001b[0mbuffer\u001b[0m\u001b[0;34m)\u001b[0m\u001b[0;34m\u001b[0m\u001b[0;34m\u001b[0m\u001b[0m\n\u001b[0m\u001b[1;32m   1242\u001b[0m         \u001b[0;32melse\u001b[0m\u001b[0;34m:\u001b[0m\u001b[0;34m\u001b[0m\u001b[0;34m\u001b[0m\u001b[0m\n\u001b[1;32m   1243\u001b[0m             \u001b[0;32mreturn\u001b[0m \u001b[0msuper\u001b[0m\u001b[0;34m(\u001b[0m\u001b[0;34m)\u001b[0m\u001b[0;34m.\u001b[0m\u001b[0mrecv_into\u001b[0m\u001b[0;34m(\u001b[0m\u001b[0mbuffer\u001b[0m\u001b[0;34m,\u001b[0m \u001b[0mnbytes\u001b[0m\u001b[0;34m,\u001b[0m \u001b[0mflags\u001b[0m\u001b[0;34m)\u001b[0m\u001b[0;34m\u001b[0m\u001b[0;34m\u001b[0m\u001b[0m\n",
      "\u001b[0;32m/Library/Frameworks/Python.framework/Versions/3.8/lib/python3.8/ssl.py\u001b[0m in \u001b[0;36mread\u001b[0;34m(self, len, buffer)\u001b[0m\n\u001b[1;32m   1097\u001b[0m         \u001b[0;32mtry\u001b[0m\u001b[0;34m:\u001b[0m\u001b[0;34m\u001b[0m\u001b[0;34m\u001b[0m\u001b[0m\n\u001b[1;32m   1098\u001b[0m             \u001b[0;32mif\u001b[0m \u001b[0mbuffer\u001b[0m \u001b[0;32mis\u001b[0m \u001b[0;32mnot\u001b[0m \u001b[0;32mNone\u001b[0m\u001b[0;34m:\u001b[0m\u001b[0;34m\u001b[0m\u001b[0;34m\u001b[0m\u001b[0m\n\u001b[0;32m-> 1099\u001b[0;31m                 \u001b[0;32mreturn\u001b[0m \u001b[0mself\u001b[0m\u001b[0;34m.\u001b[0m\u001b[0m_sslobj\u001b[0m\u001b[0;34m.\u001b[0m\u001b[0mread\u001b[0m\u001b[0;34m(\u001b[0m\u001b[0mlen\u001b[0m\u001b[0;34m,\u001b[0m \u001b[0mbuffer\u001b[0m\u001b[0;34m)\u001b[0m\u001b[0;34m\u001b[0m\u001b[0;34m\u001b[0m\u001b[0m\n\u001b[0m\u001b[1;32m   1100\u001b[0m             \u001b[0;32melse\u001b[0m\u001b[0;34m:\u001b[0m\u001b[0;34m\u001b[0m\u001b[0;34m\u001b[0m\u001b[0m\n\u001b[1;32m   1101\u001b[0m                 \u001b[0;32mreturn\u001b[0m \u001b[0mself\u001b[0m\u001b[0;34m.\u001b[0m\u001b[0m_sslobj\u001b[0m\u001b[0;34m.\u001b[0m\u001b[0mread\u001b[0m\u001b[0;34m(\u001b[0m\u001b[0mlen\u001b[0m\u001b[0;34m)\u001b[0m\u001b[0;34m\u001b[0m\u001b[0;34m\u001b[0m\u001b[0m\n",
      "\u001b[0;31mKeyboardInterrupt\u001b[0m: "
     ]
    }
   ],
   "source": [
    "import requests\n",
    "\n",
    "request = requests.get(\n",
    "    'https://ipfs.io/ipfs/bafy2bzaceaossdrq3dtxhkdq6jzmgy2a4qtskewsm346qyk4u4mld4j2khj6o')\n",
    "request"
   ]
  },
  {
   "cell_type": "code",
   "execution_count": 126,
   "metadata": {},
   "outputs": [
    {
     "ename": "JSONDecodeError",
     "evalue": "Expecting value: line 1 column 1 (char 0)",
     "output_type": "error",
     "traceback": [
      "\u001b[0;31m---------------------------------------------------------------------------\u001b[0m",
      "\u001b[0;31mJSONDecodeError\u001b[0m                           Traceback (most recent call last)",
      "\u001b[0;32m~/Library/Python/3.8/lib/python/site-packages/requests/models.py\u001b[0m in \u001b[0;36mjson\u001b[0;34m(self, **kwargs)\u001b[0m\n\u001b[1;32m    970\u001b[0m         \u001b[0;32mtry\u001b[0m\u001b[0;34m:\u001b[0m\u001b[0;34m\u001b[0m\u001b[0;34m\u001b[0m\u001b[0m\n\u001b[0;32m--> 971\u001b[0;31m             \u001b[0;32mreturn\u001b[0m \u001b[0mcomplexjson\u001b[0m\u001b[0;34m.\u001b[0m\u001b[0mloads\u001b[0m\u001b[0;34m(\u001b[0m\u001b[0mself\u001b[0m\u001b[0;34m.\u001b[0m\u001b[0mtext\u001b[0m\u001b[0;34m,\u001b[0m \u001b[0;34m**\u001b[0m\u001b[0mkwargs\u001b[0m\u001b[0;34m)\u001b[0m\u001b[0;34m\u001b[0m\u001b[0;34m\u001b[0m\u001b[0m\n\u001b[0m\u001b[1;32m    972\u001b[0m         \u001b[0;32mexcept\u001b[0m \u001b[0mJSONDecodeError\u001b[0m \u001b[0;32mas\u001b[0m \u001b[0me\u001b[0m\u001b[0;34m:\u001b[0m\u001b[0;34m\u001b[0m\u001b[0;34m\u001b[0m\u001b[0m\n",
      "\u001b[0;32m/Library/Frameworks/Python.framework/Versions/3.8/lib/python3.8/json/__init__.py\u001b[0m in \u001b[0;36mloads\u001b[0;34m(s, cls, object_hook, parse_float, parse_int, parse_constant, object_pairs_hook, **kw)\u001b[0m\n\u001b[1;32m    356\u001b[0m             parse_constant is None and object_pairs_hook is None and not kw):\n\u001b[0;32m--> 357\u001b[0;31m         \u001b[0;32mreturn\u001b[0m \u001b[0m_default_decoder\u001b[0m\u001b[0;34m.\u001b[0m\u001b[0mdecode\u001b[0m\u001b[0;34m(\u001b[0m\u001b[0ms\u001b[0m\u001b[0;34m)\u001b[0m\u001b[0;34m\u001b[0m\u001b[0;34m\u001b[0m\u001b[0m\n\u001b[0m\u001b[1;32m    358\u001b[0m     \u001b[0;32mif\u001b[0m \u001b[0mcls\u001b[0m \u001b[0;32mis\u001b[0m \u001b[0;32mNone\u001b[0m\u001b[0;34m:\u001b[0m\u001b[0;34m\u001b[0m\u001b[0;34m\u001b[0m\u001b[0m\n",
      "\u001b[0;32m/Library/Frameworks/Python.framework/Versions/3.8/lib/python3.8/json/decoder.py\u001b[0m in \u001b[0;36mdecode\u001b[0;34m(self, s, _w)\u001b[0m\n\u001b[1;32m    336\u001b[0m         \"\"\"\n\u001b[0;32m--> 337\u001b[0;31m         \u001b[0mobj\u001b[0m\u001b[0;34m,\u001b[0m \u001b[0mend\u001b[0m \u001b[0;34m=\u001b[0m \u001b[0mself\u001b[0m\u001b[0;34m.\u001b[0m\u001b[0mraw_decode\u001b[0m\u001b[0;34m(\u001b[0m\u001b[0ms\u001b[0m\u001b[0;34m,\u001b[0m \u001b[0midx\u001b[0m\u001b[0;34m=\u001b[0m\u001b[0m_w\u001b[0m\u001b[0;34m(\u001b[0m\u001b[0ms\u001b[0m\u001b[0;34m,\u001b[0m \u001b[0;36m0\u001b[0m\u001b[0;34m)\u001b[0m\u001b[0;34m.\u001b[0m\u001b[0mend\u001b[0m\u001b[0;34m(\u001b[0m\u001b[0;34m)\u001b[0m\u001b[0;34m)\u001b[0m\u001b[0;34m\u001b[0m\u001b[0;34m\u001b[0m\u001b[0m\n\u001b[0m\u001b[1;32m    338\u001b[0m         \u001b[0mend\u001b[0m \u001b[0;34m=\u001b[0m \u001b[0m_w\u001b[0m\u001b[0;34m(\u001b[0m\u001b[0ms\u001b[0m\u001b[0;34m,\u001b[0m \u001b[0mend\u001b[0m\u001b[0;34m)\u001b[0m\u001b[0;34m.\u001b[0m\u001b[0mend\u001b[0m\u001b[0;34m(\u001b[0m\u001b[0;34m)\u001b[0m\u001b[0;34m\u001b[0m\u001b[0;34m\u001b[0m\u001b[0m\n",
      "\u001b[0;32m/Library/Frameworks/Python.framework/Versions/3.8/lib/python3.8/json/decoder.py\u001b[0m in \u001b[0;36mraw_decode\u001b[0;34m(self, s, idx)\u001b[0m\n\u001b[1;32m    354\u001b[0m         \u001b[0;32mexcept\u001b[0m \u001b[0mStopIteration\u001b[0m \u001b[0;32mas\u001b[0m \u001b[0merr\u001b[0m\u001b[0;34m:\u001b[0m\u001b[0;34m\u001b[0m\u001b[0;34m\u001b[0m\u001b[0m\n\u001b[0;32m--> 355\u001b[0;31m             \u001b[0;32mraise\u001b[0m \u001b[0mJSONDecodeError\u001b[0m\u001b[0;34m(\u001b[0m\u001b[0;34m\"Expecting value\"\u001b[0m\u001b[0;34m,\u001b[0m \u001b[0ms\u001b[0m\u001b[0;34m,\u001b[0m \u001b[0merr\u001b[0m\u001b[0;34m.\u001b[0m\u001b[0mvalue\u001b[0m\u001b[0;34m)\u001b[0m \u001b[0;32mfrom\u001b[0m \u001b[0;32mNone\u001b[0m\u001b[0;34m\u001b[0m\u001b[0;34m\u001b[0m\u001b[0m\n\u001b[0m\u001b[1;32m    356\u001b[0m         \u001b[0;32mreturn\u001b[0m \u001b[0mobj\u001b[0m\u001b[0;34m,\u001b[0m \u001b[0mend\u001b[0m\u001b[0;34m\u001b[0m\u001b[0;34m\u001b[0m\u001b[0m\n",
      "\u001b[0;31mJSONDecodeError\u001b[0m: Expecting value: line 1 column 1 (char 0)",
      "\nDuring handling of the above exception, another exception occurred:\n",
      "\u001b[0;31mJSONDecodeError\u001b[0m                           Traceback (most recent call last)",
      "\u001b[0;32m/var/folders/7q/v86mnbls3_x0xfp8b48_cq7r0000gn/T/ipykernel_99785/2268698450.py\u001b[0m in \u001b[0;36m<module>\u001b[0;34m\u001b[0m\n\u001b[1;32m      3\u001b[0m request = requests.get(\n\u001b[1;32m      4\u001b[0m     'https://nftstorage.link/ipfs/bafy2bzaceaossdrq3dtxhkdq6jzmgy2a4qtskewsm346qyk4u4mld4j2khj6o')\n\u001b[0;32m----> 5\u001b[0;31m \u001b[0mrequest\u001b[0m\u001b[0;34m.\u001b[0m\u001b[0mjson\u001b[0m\u001b[0;34m(\u001b[0m\u001b[0;34m)\u001b[0m\u001b[0;34m\u001b[0m\u001b[0;34m\u001b[0m\u001b[0m\n\u001b[0m",
      "\u001b[0;32m~/Library/Python/3.8/lib/python/site-packages/requests/models.py\u001b[0m in \u001b[0;36mjson\u001b[0;34m(self, **kwargs)\u001b[0m\n\u001b[1;32m    973\u001b[0m             \u001b[0;31m# Catch JSON-related errors and raise as requests.JSONDecodeError\u001b[0m\u001b[0;34m\u001b[0m\u001b[0;34m\u001b[0m\u001b[0;34m\u001b[0m\u001b[0m\n\u001b[1;32m    974\u001b[0m             \u001b[0;31m# This aliases json.JSONDecodeError and simplejson.JSONDecodeError\u001b[0m\u001b[0;34m\u001b[0m\u001b[0;34m\u001b[0m\u001b[0;34m\u001b[0m\u001b[0m\n\u001b[0;32m--> 975\u001b[0;31m             \u001b[0;32mraise\u001b[0m \u001b[0mRequestsJSONDecodeError\u001b[0m\u001b[0;34m(\u001b[0m\u001b[0me\u001b[0m\u001b[0;34m.\u001b[0m\u001b[0mmsg\u001b[0m\u001b[0;34m,\u001b[0m \u001b[0me\u001b[0m\u001b[0;34m.\u001b[0m\u001b[0mdoc\u001b[0m\u001b[0;34m,\u001b[0m \u001b[0me\u001b[0m\u001b[0;34m.\u001b[0m\u001b[0mpos\u001b[0m\u001b[0;34m)\u001b[0m\u001b[0;34m\u001b[0m\u001b[0;34m\u001b[0m\u001b[0m\n\u001b[0m\u001b[1;32m    976\u001b[0m \u001b[0;34m\u001b[0m\u001b[0m\n\u001b[1;32m    977\u001b[0m     \u001b[0;34m@\u001b[0m\u001b[0mproperty\u001b[0m\u001b[0;34m\u001b[0m\u001b[0;34m\u001b[0m\u001b[0m\n",
      "\u001b[0;31mJSONDecodeError\u001b[0m: Expecting value: line 1 column 1 (char 0)"
     ]
    }
   ],
   "source": [
    "import requests\n",
    "\n",
    "request = requests.get(\n",
    "    'https://nftstorage.link/ipfs/bafy2bzaceaossdrq3dtxhkdq6jzmgy2a4qtskewsm346qyk4u4mld4j2khj6o')\n",
    "request.json()\n"
   ]
  },
  {
   "cell_type": "code",
   "execution_count": 234,
   "metadata": {},
   "outputs": [
    {
     "name": "stdout",
     "output_type": "stream",
     "text": [
      "200\n"
     ]
    },
    {
     "data": {
      "text/plain": [
       "{'jsonrpc': '2.0',\n",
       " 'id': 1,\n",
       " 'error': {'code': 1, 'message': 'invalid header: (dd)'}}"
      ]
     },
     "execution_count": 234,
     "metadata": {},
     "output_type": "execute_result"
    }
   ],
   "source": [
    "import requests\n",
    "import base64\n",
    "\n",
    "url = \"https://api.hyperspace.node.glif.io/rpc/v1\"\n",
    "\n",
    "p1 = [\n",
    "    {\n",
    "        \"fromBlock\": \"0xadf5\",\n",
    "        \"toBlock\": \"0xadf5\"\n",
    "    }\n",
    "]\n",
    "\n",
    "\n",
    "# Example echo method\n",
    "payload = {\n",
    "    \"id\": 1,\n",
    "    \"jsonrpc\": \"2.0\",\n",
    "    \"method\": \"Filecoin.EthGetLogs\",\n",
    "    \"params\": p1\n",
    "}\n",
    "response = requests.post(url, json=payload, headers={\n",
    "                         \"Content-Type\": \"application/json\"})\n",
    "print(response.status_code)\n",
    "response = response.json()\n",
    "response\n",
    "\n",
    "\n"
   ]
  },
  {
   "cell_type": "code",
   "execution_count": 199,
   "metadata": {},
   "outputs": [
    {
     "data": {
      "text/plain": [
       "{'jsonrpc': '2.0',\n",
       " 'result': {'hash': '0x48fbc23d00ad7917e8ca265aa4ae3eb63f1495156b179673318a820b1b712c9e',\n",
       "  'parentHash': '0xda83528373a49b0752c22625a04475ffaf4db374d98b864626f5f69a5d11fc6e',\n",
       "  'sha3Uncles': '0x0000000000000000000000000000000000000000000000000000000000000000',\n",
       "  'miner': '0x0000000000000000000000000000000000000000',\n",
       "  'stateRoot': '0x0000000000000000000000000000000000000000000000000000000000000000',\n",
       "  'transactionsRoot': '0x0000000000000000000000000000000000000000000000000000000000000000',\n",
       "  'receiptsRoot': '0x0000000000000000000000000000000000000000000000000000000000000000',\n",
       "  'logsBloom': '0x00000000000000000000000000000000000000000000000000000000000000000000000000000000000000000000000000000000000000000000000000000000000000000000000000000000000000000000000000000000000000000000000000000000000000000000000000000000000000000000000000000000000000000000000000000000000000000000000000000000000000000000000000000000000000000000000000000000000000000000000000000000000000000000000000000000000000000000000000000000000000000000000000000000000000000000000000000000000000000000000000000000000000000000000000000001',\n",
       "  'difficulty': '0x0',\n",
       "  'totalDifficulty': '0x0',\n",
       "  'number': '0xadf5',\n",
       "  'gasLimit': '0x2540be400',\n",
       "  'gasUsed': '0xb32417',\n",
       "  'timestamp': '0x63d94a96',\n",
       "  'extraData': '',\n",
       "  'mixHash': '0x0000000000000000000000000000000000000000000000000000000000000000',\n",
       "  'nonce': '0x0000000000000000',\n",
       "  'baseFeePerGas': '0x64',\n",
       "  'size': '0x0',\n",
       "  'transactions': [{'chainId': '0xc45',\n",
       "    'nonce': '0x0',\n",
       "    'hash': '0x06b6cec59947de326d980b11b42ee5ec1ce3ea06e5ba08cc4f01986c465f13e7',\n",
       "    'blockHash': '0x48fbc23d00ad7917e8ca265aa4ae3eb63f1495156b179673318a820b1b712c9e',\n",
       "    'blockNumber': '0xadf5',\n",
       "    'transactionIndex': '0x0',\n",
       "    'from': '0x8074744e9d1c361f29f09e3363243441c5c789f2',\n",
       "    'to': '0x23396626f2c9c0b31cc6c2729172103961ae2a26',\n",
       "    'value': '0x13fbe85edc90000',\n",
       "    'type': '0x2',\n",
       "    'input': '0xd0e30db0',\n",
       "    'gas': '0xdfd3b8',\n",
       "    'maxFeePerGas': '0x3109f',\n",
       "    'maxPriorityFeePerGas': '0x3109f',\n",
       "    'v': '0x0',\n",
       "    'r': '0xa5f1573db65551c96028b2a2f51a104cc54e2d4186091b2d5087a44663f8fcec',\n",
       "    's': '0x48a65e311efcb73381265be25a2e873f614f429aa061688bed134bec5f5edc4e'}],\n",
       "  'uncles': []},\n",
       " 'id': 1}"
      ]
     },
     "execution_count": 199,
     "metadata": {},
     "output_type": "execute_result"
    }
   ],
   "source": [
    "import requests\n",
    "import base64\n",
    "\n",
    "url = \"https://api.hyperspace.node.glif.io/rpc/v1\"\n",
    "\n",
    "\n",
    "# Example echo method\n",
    "payload = {\n",
    "    \"id\": 1,\n",
    "    \"jsonrpc\": \"2.0\",\n",
    "    \"method\": \"Filecoin.EthGetBlockByNumber\",\n",
    "    \"params\": [\"0xadf5\", True]\n",
    "}\n",
    "response = requests.post(url, json=payload, headers={\n",
    "                         \"Content-Type\": \"application/json\"})\n",
    "response = response.json()\n",
    "response\n"
   ]
  },
  {
   "cell_type": "code",
   "execution_count": 141,
   "metadata": {},
   "outputs": [
    {
     "data": {
      "text/plain": [
       "{'jsonrpc': '2.0',\n",
       " 'result': {'hash': '0xe6777c312d3b33a5b4197c1f171aa0a653e69fd1d9e7880ae9fd34f967eed8a5',\n",
       "  'parentHash': '0x9f7f004971df489d28f63223aad21b1d305726eb4817f1eab488aab22cdc49a1',\n",
       "  'sha3Uncles': '0x0000000000000000000000000000000000000000000000000000000000000000',\n",
       "  'miner': '0x0000000000000000000000000000000000000000',\n",
       "  'stateRoot': '0x0000000000000000000000000000000000000000000000000000000000000000',\n",
       "  'transactionsRoot': '0x0000000000000000000000000000000000000000000000000000000000000000',\n",
       "  'receiptsRoot': '0x0000000000000000000000000000000000000000000000000000000000000000',\n",
       "  'logsBloom': '0x00000000000000000000000000000000000000000000000000000000000000000000000000000000000000000000000000000000000000000000000000000000000000000000000000000000000000000000000000000000000000000000000000000000000000000000000000000000000000000000000000000000000000000000000000000000000000000000000000000000000000000000000000000000000000000000000000000000000000000000000000000000000000000000000000000000000000000000000000000000000000000000000000000000000000000000000000000000000000000000000000000000000000000000000000000001',\n",
       "  'difficulty': '0x0',\n",
       "  'totalDifficulty': '0x0',\n",
       "  'number': '0x993b',\n",
       "  'gasLimit': '0x2540be400',\n",
       "  'gasUsed': '0x343bc4',\n",
       "  'timestamp': '0x63d6dcca',\n",
       "  'extraData': '',\n",
       "  'mixHash': '0x0000000000000000000000000000000000000000000000000000000000000000',\n",
       "  'nonce': '0x0000000000000000',\n",
       "  'baseFeePerGas': '0x64',\n",
       "  'size': '0x0',\n",
       "  'transactions': [{'chainId': '0xc45',\n",
       "    'nonce': '0x8',\n",
       "    'hash': '0xd11ef19884170882a9d517c7d982e9e4472b6ce93397e9cc0c0f5f1cd8bd99a9',\n",
       "    'blockHash': '0xe6777c312d3b33a5b4197c1f171aa0a653e69fd1d9e7880ae9fd34f967eed8a5',\n",
       "    'blockNumber': '0x993b',\n",
       "    'transactionIndex': '0x0',\n",
       "    'from': '0xf7ff442a8184e113476b68f5d2cfee57ad1ae6de',\n",
       "    'to': '0x7b64f83b1183e644e9495dfa465e7aebb8e479f1',\n",
       "    'value': '0x0',\n",
       "    'type': '0x2',\n",
       "    'input': '0x90b98a1100000000000000000000000090f14e3282977416286085e0d90210a400befd2200000000000000000000000000000000000000000000000000000000000003e8',\n",
       "    'gas': '0x41249f',\n",
       "    'maxFeePerGas': '0x59682fc8',\n",
       "    'maxPriorityFeePerGas': '0x59682f00',\n",
       "    'v': '0x0',\n",
       "    'r': '0xcf084e7b34fe91bc8f7aeebb6c82227204fbf53af561a435d3d9f28ab4ebe316',\n",
       "    's': '0x5297721be11e91cc570ba392dd764f0100eee2775e083ece6e26dd13ffa77790'}],\n",
       "  'uncles': []},\n",
       " 'id': 1}"
      ]
     },
     "execution_count": 141,
     "metadata": {},
     "output_type": "execute_result"
    }
   ],
   "source": [
    "import requests\n",
    "import base64\n",
    "\n",
    "url = \"https://api.hyperspace.node.glif.io\"\n",
    "\n",
    "\n",
    "# Example echo method\n",
    "payload = {\n",
    "    \"id\": 1,\n",
    "    \"jsonrpc\": \"2.0\",\n",
    "    \"method\": \"Filecoin.EthGetBlockByHash\",\n",
    "    \"params\": [\"0xe6777c312d3b33a5b4197c1f171aa0a653e69fd1d9e7880ae9fd34f967eed8a5\", True]\n",
    "}\n",
    "response = requests.post(url, json=payload, headers={\n",
    "                         \"Content-Type\": \"application/json\"})\n",
    "response = response.json()\n",
    "response\n"
   ]
  },
  {
   "cell_type": "markdown",
   "metadata": {},
   "source": [
    "# Get messages for a tipset\n"
   ]
  },
  {
   "cell_type": "code",
   "execution_count": 149,
   "metadata": {},
   "outputs": [
    {
     "data": {
      "text/plain": [
       "{'jsonrpc': '2.0',\n",
       " 'id': 1,\n",
       " 'error': {'code': -32700,\n",
       "  'message': \"unmarshaling params for 'Filecoin.ChainGetMessagesInTipset' (param: *types.TipSetKey): json: cannot unmarshal object into Go value of type []cid.Cid\"}}"
      ]
     },
     "execution_count": 149,
     "metadata": {},
     "output_type": "execute_result"
    }
   ],
   "source": [
    "# needs a bafy param to work\n",
    "\n",
    "import requests\n",
    "import base64\n",
    "\n",
    "url = \"https://api.hyperspace.node.glif.io\"\n",
    "\n",
    "p1 ={\n",
    "    \"/\": \"bafy2bzaceakevayyhkgjnewlau6rcjnri2mjpckhepzld7eyf3tkcfop2lghc\"\n",
    "}\n",
    "\n",
    "# Example echo method\n",
    "payload = {\n",
    "    \"id\": 1,\n",
    "    \"jsonrpc\": \"2.0\",\n",
    "    \"method\": \"Filecoin.ChainGetMessagesInTipset\",\n",
    "    \"params\": [p1]\n",
    "}\n",
    "response = requests.post(url, json=payload, headers={\n",
    "                         \"Content-Type\": \"application/json\"})\n",
    "response = response.json()\n",
    "response\n"
   ]
  },
  {
   "attachments": {},
   "cell_type": "markdown",
   "metadata": {},
   "source": [
    "# Get a tipset by height"
   ]
  },
  {
   "cell_type": "code",
   "execution_count": 152,
   "metadata": {},
   "outputs": [
    {
     "data": {
      "text/plain": [
       "[{'/': 'bafy2bzaceayfiovbmmovun7aivn23avbg2j4lqf5xcsmp4k37a2k7l2yh5jo2'},\n",
       " {'/': 'bafy2bzacedwkgc7pgtqgxi7or2jdh43xq2mlprig5kdhhv2jjyjd3vf477wns'},\n",
       " {'/': 'bafy2bzaceaye7qmbbzrec4rvfrnprdfuuzuu6ff757izeabwrqfhgy422cxac'}]"
      ]
     },
     "execution_count": 152,
     "metadata": {},
     "output_type": "execute_result"
    }
   ],
   "source": [
    "# needs a bafy param to work\n",
    "\n",
    "import requests\n",
    "import base64\n",
    "\n",
    "url = \"https://api.hyperspace.node.glif.io\"\n",
    "\n",
    "p1 = {\n",
    "    \"/\": \"0x993b\"\n",
    "}\n",
    "\n",
    "# Example echo method\n",
    "payload = {\n",
    "    \"id\": 1,\n",
    "    \"jsonrpc\": \"2.0\",\n",
    "    \"method\": \"Filecoin.ChainGetTipSetByHeight\",\n",
    "    \"params\": [39227, None]\n",
    "}\n",
    "response = requests.post(url, json=payload, headers={\n",
    "                         \"Content-Type\": \"application/json\"})\n",
    "response = response.json()\n",
    "response\n",
    "\n",
    "cids_list = response['result']['Cids']\n",
    "cids_list"
   ]
  },
  {
   "cell_type": "code",
   "execution_count": 154,
   "metadata": {},
   "outputs": [
    {
     "data": {
      "text/plain": [
       "{'jsonrpc': '2.0',\n",
       " 'result': [{'Cid': {'/': 'bafy2bzaceaossdrq3dtxhkdq6jzmgy2a4qtskewsm346qyk4u4mld4j2khj6o'},\n",
       "   'Message': {'Version': 0,\n",
       "    'To': 't410fpnspqoyrqptej2kjlx5emxt25o4oi6pruvouyeq',\n",
       "    'From': 't410f677uikubqtqrgr3lnd25ft7ok6wrvzw636qumvy',\n",
       "    'Nonce': 8,\n",
       "    'Value': '0',\n",
       "    'GasLimit': 4269215,\n",
       "    'GasFeeCap': '1500000200',\n",
       "    'GasPremium': '1500000000',\n",
       "    'Method': 3844450837,\n",
       "    'Params': 'WESQuYoRAAAAAAAAAAAAAAAAkPFOMoKXdBYoYIXg2QIQpAC+/SIAAAAAAAAAAAAAAAAAAAAAAAAAAAAAAAAAAAAAAAAD6A==',\n",
       "    'CID': {'/': 'bafy2bzacectnvpmf4ahvrvxlt7jrjxy4ljjfduqdueygxbtfrbvjd47qwsmr4'}}}],\n",
       " 'id': 1}"
      ]
     },
     "execution_count": 154,
     "metadata": {},
     "output_type": "execute_result"
    }
   ],
   "source": [
    "# needs a bafy param to work\n",
    "\n",
    "import requests\n",
    "import base64\n",
    "\n",
    "url = \"https://api.hyperspace.node.glif.io\"\n",
    "\n",
    "p1 = {\n",
    "    \"/\": \"bafy2bzaceakevayyhkgjnewlau6rcjnri2mjpckhepzld7eyf3tkcfop2lghc\"\n",
    "}\n",
    "\n",
    "# Example echo method\n",
    "payload = {\n",
    "    \"id\": 1,\n",
    "    \"jsonrpc\": \"2.0\",\n",
    "    \"method\": \"Filecoin.ChainGetMessagesInTipset\",\n",
    "    \"params\": [cids_list]\n",
    "}\n",
    "response = requests.post(url, json=payload, headers={\n",
    "                         \"Content-Type\": \"application/json\"})\n",
    "response = response.json()\n",
    "response\n"
   ]
  },
  {
   "cell_type": "code",
   "execution_count": 156,
   "metadata": {},
   "outputs": [
    {
     "data": {
      "text/plain": [
       "'0xe525aa15'"
      ]
     },
     "execution_count": 156,
     "metadata": {},
     "output_type": "execute_result"
    }
   ],
   "source": [
    "method_dec = response['result'][0]['Message']['Method']\n",
    "method_hex = hex(method_dec)\n",
    "method_hex\n"
   ]
  },
  {
   "cell_type": "code",
   "execution_count": 160,
   "metadata": {},
   "outputs": [
    {
     "data": {
      "text/plain": [
       "'90b98a1100000000000000000000000090f14e3282977416286085e0d90210a400befd2200000000000000000000000000000000000000000000000000000000000003e8'"
      ]
     },
     "execution_count": 160,
     "metadata": {},
     "output_type": "execute_result"
    }
   ],
   "source": [
    "import base64\n",
    "import cbor2\n",
    "params_base64 = response['result'][0]['Message']['Params']\n",
    "\n",
    "\n",
    "def cbor_bytes(cbor_data):\n",
    "    decoded = cbor2.loads(cbor_data)\n",
    "    return decoded\n",
    "\n",
    "def bytes_to_hex(b):\n",
    "    return ''.join('{:02x}'.format(x) for x in b)\n",
    "\n",
    "\n",
    "decoded_params = base64.b64decode(params_base64)\n",
    "params_buffer = cbor_bytes(decoded_params)\n",
    "params_hex = bytes_to_hex(decoded_params)\n",
    "\n",
    "params_hex\n",
    "params_hex = params_hex[4:]\n",
    "params_hex\n"
   ]
  },
  {
   "attachments": {},
   "cell_type": "markdown",
   "metadata": {},
   "source": [
    "# Get transactions for a Block - EVM"
   ]
  },
  {
   "cell_type": "code",
   "execution_count": 196,
   "metadata": {},
   "outputs": [
    {
     "data": {
      "text/plain": [
       "{'jsonrpc': '2.0',\n",
       " 'result': {'hash': '0x98ae16098c04dd0c5b7a4cd6ec6a66aead482752b109c39104879ee00b2458c5',\n",
       "  'parentHash': '0x1143bcc8ccf709667ed55af472182b0408ac281d1ddaf8d5bd309bc52795bdf6',\n",
       "  'sha3Uncles': '0x0000000000000000000000000000000000000000000000000000000000000000',\n",
       "  'miner': '0x0000000000000000000000000000000000000000',\n",
       "  'stateRoot': '0x0000000000000000000000000000000000000000000000000000000000000000',\n",
       "  'transactionsRoot': '0x0000000000000000000000000000000000000000000000000000000000000000',\n",
       "  'receiptsRoot': '0x0000000000000000000000000000000000000000000000000000000000000000',\n",
       "  'logsBloom': '0x00000000000000000000000000000000000000000000000000000000000000000000000000000000000000000000000000000000000000000000000000000000000000000000000000000000000000000000000000000000000000000000000000000000000000000000000000000000000000000000000000000000000000000000000000000000000000000000000000000000000000000000000000000000000000000000000000000000000000000000000000000000000000000000000000000000000000000000000000000000000000000000000000000000000000000000000000000000000000000000000000000000000000000000000000000001',\n",
       "  'difficulty': '0x0',\n",
       "  'totalDifficulty': '0x0',\n",
       "  'number': '0x88ef',\n",
       "  'gasLimit': '0x2540be400',\n",
       "  'gasUsed': '0x0',\n",
       "  'timestamp': '0x63d4f3e2',\n",
       "  'extraData': '',\n",
       "  'mixHash': '0x0000000000000000000000000000000000000000000000000000000000000000',\n",
       "  'nonce': '0x0000000000000000',\n",
       "  'baseFeePerGas': '0x64',\n",
       "  'size': '0x0',\n",
       "  'transactions': [],\n",
       "  'uncles': []},\n",
       " 'id': 1}"
      ]
     },
     "execution_count": 196,
     "metadata": {},
     "output_type": "execute_result"
    }
   ],
   "source": [
    "# needs a bafy param to work\n",
    "\n",
    "import requests\n",
    "import base64\n",
    "\n",
    "url = \"https://api.hyperspace.node.glif.io/rpc/v1\"\n",
    "\n",
    "p1 = {\n",
    "    \"/\": \"bafy2bzaceakevayyhkgjnewlau6rcjnri2mjpckhepzld7eyf3tkcfop2lghc\"\n",
    "}\n",
    "\n",
    "# Example echo method\n",
    "payload = {\n",
    "    \"id\": 1,\n",
    "    \"jsonrpc\": \"2.0\",\n",
    "    \"method\": \"eth_getBlockByNumber\",\n",
    "    \"params\": [\"0x88ef\", True]\n",
    "}\n",
    "response = requests.post(url, json=payload, headers={\n",
    "                         \"Content-Type\": \"application/json\"})\n",
    "response = response.json()\n",
    "response\n"
   ]
  },
  {
   "attachments": {},
   "cell_type": "markdown",
   "metadata": {},
   "source": [
    "# Convert FVM address to EVM address"
   ]
  },
  {
   "cell_type": "code",
   "execution_count": 176,
   "metadata": {},
   "outputs": [
    {
     "data": {
      "text/plain": [
       "'0x90f14e3282977416286085e0d90210a400befd22'"
      ]
     },
     "execution_count": 176,
     "metadata": {},
     "output_type": "execute_result"
    }
   ],
   "source": [
    "import base64\n",
    "\n",
    "address = 't410fsdyu4mucs52bmkdaqxqnsaqquqal57jcflxeapi'\n",
    "stripped_address = address[5:-7].upper()\n",
    "\n",
    "stripped_address\n",
    "# decode base32 address to hex\n",
    "address_hex = base64.b32decode(stripped_address).hex()\n",
    "address_hex\n",
    "\n",
    "final_address = '0x' + address_hex\n",
    "final_address"
   ]
  },
  {
   "cell_type": "code",
   "execution_count": null,
   "metadata": {},
   "outputs": [],
   "source": [
    "import requests\n",
    "import base64\n",
    "\n",
    "url = \"https://api.hyperspace.node.glif.io\"\n",
    "\n",
    "\n",
    "# Example echo method\n",
    "payload = {\n",
    "    \"id\": 1,\n",
    "    \"jsonrpc\": \"2.0\",\n",
    "    \"method\": \"Filecoin.EthGetBlockByHash\",\n",
    "    \"params\": [\"0xe6777c312d3b33a5b4197c1f171aa0a653e69fd1d9e7880ae9fd34f967eed8a5\", True]\n",
    "}\n",
    "response = requests.post(url, json=payload, headers={\n",
    "                         \"Content-Type\": \"application/json\"})\n",
    "response = response.json()\n",
    "response\n"
   ]
  },
  {
   "cell_type": "code",
   "execution_count": 182,
   "metadata": {},
   "outputs": [
    {
     "data": {
      "text/plain": [
       "45528"
      ]
     },
     "execution_count": 182,
     "metadata": {},
     "output_type": "execute_result"
    }
   ],
   "source": [
    "import requests\n",
    "import base64\n",
    "\n",
    "url = \"https://api.hyperspace.node.glif.io\"\n",
    "\n",
    "\n",
    "address_sent_to = 't410fsdyu4mucs52bmkdaqxqnsaqquqal57jcflxeapi'\n",
    "eth_second_address = 't410f677uikubqtqrgr3lnd25ft7ok6wrvzw636qumvy'\n",
    "eth_address = '0x90f14e3282977416286085e0d90210A400bEFD22'\n",
    "p1 = {\n",
    "    \"/\": \"bafy2bzacebvgnbocr4a7aa5h2bvdxzkpvw2g7wmpkz6fe7cr4o25zv7xoxlo6\"\n",
    "}\n",
    "\n",
    "\n",
    "# Example echo method\n",
    "payload = {\n",
    "    \"id\": 2,\n",
    "    \"jsonrpc\": \"2.0\",\n",
    "    \"method\": \"Filecoin.ChainHead\",\n",
    "    \"params\": []\n",
    "}\n",
    "response = requests.post(url, json=payload, headers={\n",
    "                         \"Content-Type\": \"application/json\"})\n",
    "response = response.json()\n",
    "response\n",
    "height = response['result']['Height']\n",
    "height\n",
    "# block_number = response['result']\n",
    "# block_number\n"
   ]
  }
 ],
 "metadata": {
  "kernelspec": {
   "display_name": "Python 3",
   "language": "python",
   "name": "python3"
  },
  "language_info": {
   "codemirror_mode": {
    "name": "ipython",
    "version": 3
   },
   "file_extension": ".py",
   "mimetype": "text/x-python",
   "name": "python",
   "nbconvert_exporter": "python",
   "pygments_lexer": "ipython3",
   "version": "3.8.7"
  },
  "orig_nbformat": 4,
  "vscode": {
   "interpreter": {
    "hash": "aee8b7b246df8f9039afb4144a1f6fd8d2ca17a180786b69acc140d282b71a49"
   }
  }
 },
 "nbformat": 4,
 "nbformat_minor": 2
}
